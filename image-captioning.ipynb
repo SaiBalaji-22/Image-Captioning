{
 "cells": [
  {
   "cell_type": "code",
   "execution_count": 1,
   "id": "ae9873ab",
   "metadata": {
    "execution": {
     "iopub.execute_input": "2022-07-14T10:11:12.321048Z",
     "iopub.status.busy": "2022-07-14T10:11:12.320484Z",
     "iopub.status.idle": "2022-07-14T10:11:18.348638Z",
     "shell.execute_reply": "2022-07-14T10:11:18.347619Z"
    },
    "papermill": {
     "duration": 6.044687,
     "end_time": "2022-07-14T10:11:18.351256",
     "exception": false,
     "start_time": "2022-07-14T10:11:12.306569",
     "status": "completed"
    },
    "tags": []
   },
   "outputs": [],
   "source": [
    "# import modules\n",
    "\n",
    "import os\n",
    "import pickle\n",
    "import numpy as np\n",
    "from tqdm.notebook import tqdm\n",
    "\n",
    "from tensorflow.keras.applications.vgg16 import VGG16, preprocess_input\n",
    "from tensorflow.keras.preprocessing.image import load_img, img_to_array\n",
    "from tensorflow.keras.preprocessing.text import Tokenizer\n",
    "\n",
    "from tensorflow.keras.preprocessing.sequence import pad_sequences\n",
    "from tensorflow.keras.models import Model\n",
    "from tensorflow.keras.utils import to_categorical, plot_model\n",
    "from tensorflow.keras.layers import Dense, LSTM, Dropout, Input, Embedding, add"
   ]
  },
  {
   "cell_type": "code",
   "execution_count": 2,
   "id": "598ce4c1",
   "metadata": {
    "execution": {
     "iopub.execute_input": "2022-07-14T10:11:18.365171Z",
     "iopub.status.busy": "2022-07-14T10:11:18.364603Z",
     "iopub.status.idle": "2022-07-14T10:11:18.368961Z",
     "shell.execute_reply": "2022-07-14T10:11:18.368045Z"
    },
    "papermill": {
     "duration": 0.013441,
     "end_time": "2022-07-14T10:11:18.370823",
     "exception": false,
     "start_time": "2022-07-14T10:11:18.357382",
     "status": "completed"
    },
    "tags": []
   },
   "outputs": [],
   "source": [
    "# setting up directories\n",
    "\n",
    "BASE_DIR = '/kaggle/input/flickr8k'\n",
    "WORKING_DIR = '/kaggle/working'"
   ]
  },
  {
   "cell_type": "code",
   "execution_count": 3,
   "id": "16f47675",
   "metadata": {
    "execution": {
     "iopub.execute_input": "2022-07-14T10:11:18.382844Z",
     "iopub.status.busy": "2022-07-14T10:11:18.382583Z",
     "iopub.status.idle": "2022-07-14T10:11:25.194676Z",
     "shell.execute_reply": "2022-07-14T10:11:25.193737Z"
    },
    "papermill": {
     "duration": 6.821338,
     "end_time": "2022-07-14T10:11:25.197655",
     "exception": false,
     "start_time": "2022-07-14T10:11:18.376317",
     "status": "completed"
    },
    "tags": []
   },
   "outputs": [
    {
     "name": "stderr",
     "output_type": "stream",
     "text": [
      "2022-07-14 10:11:18.482360: I tensorflow/stream_executor/cuda/cuda_gpu_executor.cc:937] successful NUMA node read from SysFS had negative value (-1), but there must be at least one NUMA node, so returning NUMA node zero\n",
      "2022-07-14 10:11:18.594287: I tensorflow/stream_executor/cuda/cuda_gpu_executor.cc:937] successful NUMA node read from SysFS had negative value (-1), but there must be at least one NUMA node, so returning NUMA node zero\n",
      "2022-07-14 10:11:18.595144: I tensorflow/stream_executor/cuda/cuda_gpu_executor.cc:937] successful NUMA node read from SysFS had negative value (-1), but there must be at least one NUMA node, so returning NUMA node zero\n",
      "2022-07-14 10:11:18.596438: I tensorflow/core/platform/cpu_feature_guard.cc:142] This TensorFlow binary is optimized with oneAPI Deep Neural Network Library (oneDNN) to use the following CPU instructions in performance-critical operations:  AVX2 AVX512F FMA\n",
      "To enable them in other operations, rebuild TensorFlow with the appropriate compiler flags.\n",
      "2022-07-14 10:11:18.605058: I tensorflow/stream_executor/cuda/cuda_gpu_executor.cc:937] successful NUMA node read from SysFS had negative value (-1), but there must be at least one NUMA node, so returning NUMA node zero\n",
      "2022-07-14 10:11:18.605753: I tensorflow/stream_executor/cuda/cuda_gpu_executor.cc:937] successful NUMA node read from SysFS had negative value (-1), but there must be at least one NUMA node, so returning NUMA node zero\n",
      "2022-07-14 10:11:18.606450: I tensorflow/stream_executor/cuda/cuda_gpu_executor.cc:937] successful NUMA node read from SysFS had negative value (-1), but there must be at least one NUMA node, so returning NUMA node zero\n",
      "2022-07-14 10:11:21.248043: I tensorflow/stream_executor/cuda/cuda_gpu_executor.cc:937] successful NUMA node read from SysFS had negative value (-1), but there must be at least one NUMA node, so returning NUMA node zero\n",
      "2022-07-14 10:11:21.248916: I tensorflow/stream_executor/cuda/cuda_gpu_executor.cc:937] successful NUMA node read from SysFS had negative value (-1), but there must be at least one NUMA node, so returning NUMA node zero\n",
      "2022-07-14 10:11:21.249637: I tensorflow/stream_executor/cuda/cuda_gpu_executor.cc:937] successful NUMA node read from SysFS had negative value (-1), but there must be at least one NUMA node, so returning NUMA node zero\n",
      "2022-07-14 10:11:21.250230: I tensorflow/core/common_runtime/gpu/gpu_device.cc:1510] Created device /job:localhost/replica:0/task:0/device:GPU:0 with 15403 MB memory:  -> device: 0, name: Tesla P100-PCIE-16GB, pci bus id: 0000:00:04.0, compute capability: 6.0\n"
     ]
    },
    {
     "name": "stdout",
     "output_type": "stream",
     "text": [
      "Downloading data from https://storage.googleapis.com/tensorflow/keras-applications/vgg16/vgg16_weights_tf_dim_ordering_tf_kernels.h5\n",
      "553467904/553467096 [==============================] - 2s 0us/step\n",
      "553476096/553467096 [==============================] - 2s 0us/step\n",
      "Model: \"model\"\n",
      "_________________________________________________________________\n",
      "Layer (type)                 Output Shape              Param #   \n",
      "=================================================================\n",
      "input_1 (InputLayer)         [(None, 224, 224, 3)]     0         \n",
      "_________________________________________________________________\n",
      "block1_conv1 (Conv2D)        (None, 224, 224, 64)      1792      \n",
      "_________________________________________________________________\n",
      "block1_conv2 (Conv2D)        (None, 224, 224, 64)      36928     \n",
      "_________________________________________________________________\n",
      "block1_pool (MaxPooling2D)   (None, 112, 112, 64)      0         \n",
      "_________________________________________________________________\n",
      "block2_conv1 (Conv2D)        (None, 112, 112, 128)     73856     \n",
      "_________________________________________________________________\n",
      "block2_conv2 (Conv2D)        (None, 112, 112, 128)     147584    \n",
      "_________________________________________________________________\n",
      "block2_pool (MaxPooling2D)   (None, 56, 56, 128)       0         \n",
      "_________________________________________________________________\n",
      "block3_conv1 (Conv2D)        (None, 56, 56, 256)       295168    \n",
      "_________________________________________________________________\n",
      "block3_conv2 (Conv2D)        (None, 56, 56, 256)       590080    \n",
      "_________________________________________________________________\n",
      "block3_conv3 (Conv2D)        (None, 56, 56, 256)       590080    \n",
      "_________________________________________________________________\n",
      "block3_pool (MaxPooling2D)   (None, 28, 28, 256)       0         \n",
      "_________________________________________________________________\n",
      "block4_conv1 (Conv2D)        (None, 28, 28, 512)       1180160   \n",
      "_________________________________________________________________\n",
      "block4_conv2 (Conv2D)        (None, 28, 28, 512)       2359808   \n",
      "_________________________________________________________________\n",
      "block4_conv3 (Conv2D)        (None, 28, 28, 512)       2359808   \n",
      "_________________________________________________________________\n",
      "block4_pool (MaxPooling2D)   (None, 14, 14, 512)       0         \n",
      "_________________________________________________________________\n",
      "block5_conv1 (Conv2D)        (None, 14, 14, 512)       2359808   \n",
      "_________________________________________________________________\n",
      "block5_conv2 (Conv2D)        (None, 14, 14, 512)       2359808   \n",
      "_________________________________________________________________\n",
      "block5_conv3 (Conv2D)        (None, 14, 14, 512)       2359808   \n",
      "_________________________________________________________________\n",
      "block5_pool (MaxPooling2D)   (None, 7, 7, 512)         0         \n",
      "_________________________________________________________________\n",
      "flatten (Flatten)            (None, 25088)             0         \n",
      "_________________________________________________________________\n",
      "fc1 (Dense)                  (None, 4096)              102764544 \n",
      "_________________________________________________________________\n",
      "fc2 (Dense)                  (None, 4096)              16781312  \n",
      "=================================================================\n",
      "Total params: 134,260,544\n",
      "Trainable params: 134,260,544\n",
      "Non-trainable params: 0\n",
      "_________________________________________________________________\n"
     ]
    }
   ],
   "source": [
    "# Launching the model\n",
    "model = VGG16()\n",
    "# modifying the model\n",
    "model = Model(inputs = model.inputs, outputs = model.layers[-2].output) #removing FCN layers of the architecture\n",
    "# summarizing the model\n",
    "model.summary()"
   ]
  },
  {
   "cell_type": "code",
   "execution_count": 4,
   "id": "8d65b538",
   "metadata": {
    "execution": {
     "iopub.execute_input": "2022-07-14T10:11:25.227679Z",
     "iopub.status.busy": "2022-07-14T10:11:25.227244Z",
     "iopub.status.idle": "2022-07-14T10:11:25.231829Z",
     "shell.execute_reply": "2022-07-14T10:11:25.230695Z"
    },
    "papermill": {
     "duration": 0.022757,
     "end_time": "2022-07-14T10:11:25.235321",
     "exception": false,
     "start_time": "2022-07-14T10:11:25.212564",
     "status": "completed"
    },
    "tags": []
   },
   "outputs": [],
   "source": [
    "features = {}"
   ]
  },
  {
   "cell_type": "code",
   "execution_count": 5,
   "id": "6628cde7",
   "metadata": {
    "execution": {
     "iopub.execute_input": "2022-07-14T10:11:25.263184Z",
     "iopub.status.busy": "2022-07-14T10:11:25.262854Z",
     "iopub.status.idle": "2022-07-14T10:19:30.165656Z",
     "shell.execute_reply": "2022-07-14T10:19:30.164525Z"
    },
    "papermill": {
     "duration": 484.919021,
     "end_time": "2022-07-14T10:19:30.168149",
     "exception": false,
     "start_time": "2022-07-14T10:11:25.249128",
     "status": "completed"
    },
    "tags": []
   },
   "outputs": [
    {
     "data": {
      "application/vnd.jupyter.widget-view+json": {
       "model_id": "5fb822c029564c65b2476a6954d17baa",
       "version_major": 2,
       "version_minor": 0
      },
      "text/plain": [
       "  0%|          | 0/8091 [00:00<?, ?it/s]"
      ]
     },
     "metadata": {},
     "output_type": "display_data"
    },
    {
     "name": "stderr",
     "output_type": "stream",
     "text": [
      "2022-07-14 10:11:25.836424: I tensorflow/compiler/mlir/mlir_graph_optimization_pass.cc:185] None of the MLIR Optimization Passes are enabled (registered 2)\n",
      "2022-07-14 10:11:26.959677: I tensorflow/stream_executor/cuda/cuda_dnn.cc:369] Loaded cuDNN version 8005\n"
     ]
    }
   ],
   "source": [
    "# image feature extraction\n",
    "directory = os.path.join(BASE_DIR, 'Images') \n",
    "for img_name in tqdm(os.listdir(directory)):\n",
    "    # loading a image\n",
    "    img_path = directory + '/' + img_name\n",
    "    image = load_img(img_path, target_size = (224, 224))\n",
    "    image = img_to_array(image)\n",
    "    image = image.reshape((1, image.shape[0], image.shape[1], image.shape[2]))\n",
    "    image = preprocess_input(image)\n",
    "    feature = model.predict(image, verbose = 0)\n",
    "    img_id = img_name.split('.')[0]\n",
    "    features[img_id] = feature"
   ]
  },
  {
   "cell_type": "code",
   "execution_count": 6,
   "id": "d7135ddd",
   "metadata": {
    "execution": {
     "iopub.execute_input": "2022-07-14T10:19:30.187965Z",
     "iopub.status.busy": "2022-07-14T10:19:30.187677Z",
     "iopub.status.idle": "2022-07-14T10:19:30.505713Z",
     "shell.execute_reply": "2022-07-14T10:19:30.504729Z"
    },
    "papermill": {
     "duration": 0.329989,
     "end_time": "2022-07-14T10:19:30.507926",
     "exception": false,
     "start_time": "2022-07-14T10:19:30.177937",
     "status": "completed"
    },
    "tags": []
   },
   "outputs": [],
   "source": [
    "# Storing extracted features in pickle\n",
    "pickle.dump(features, open(os.path.join(WORKING_DIR, 'features.pkl'), 'wb'))"
   ]
  },
  {
   "cell_type": "code",
   "execution_count": 7,
   "id": "cb434585",
   "metadata": {
    "execution": {
     "iopub.execute_input": "2022-07-14T10:19:30.529489Z",
     "iopub.status.busy": "2022-07-14T10:19:30.527691Z",
     "iopub.status.idle": "2022-07-14T10:19:30.670555Z",
     "shell.execute_reply": "2022-07-14T10:19:30.669547Z"
    },
    "papermill": {
     "duration": 0.156012,
     "end_time": "2022-07-14T10:19:30.673320",
     "exception": false,
     "start_time": "2022-07-14T10:19:30.517308",
     "status": "completed"
    },
    "tags": []
   },
   "outputs": [],
   "source": [
    "# loading data from pickle\n",
    "with open(os.path.join(WORKING_DIR, 'features.pkl'), 'rb') as f:\n",
    "    features = pickle.load(f)"
   ]
  },
  {
   "cell_type": "code",
   "execution_count": 8,
   "id": "3f916822",
   "metadata": {
    "execution": {
     "iopub.execute_input": "2022-07-14T10:19:30.693963Z",
     "iopub.status.busy": "2022-07-14T10:19:30.692369Z",
     "iopub.status.idle": "2022-07-14T10:19:30.739219Z",
     "shell.execute_reply": "2022-07-14T10:19:30.738268Z"
    },
    "papermill": {
     "duration": 0.059147,
     "end_time": "2022-07-14T10:19:30.741459",
     "exception": false,
     "start_time": "2022-07-14T10:19:30.682312",
     "status": "completed"
    },
    "tags": []
   },
   "outputs": [],
   "source": [
    "#loading captions file\n",
    "\n",
    "with open(os.path.join(BASE_DIR, 'captions.txt'), 'r') as f:\n",
    "    next(f)\n",
    "    captions_file = f.read()"
   ]
  },
  {
   "cell_type": "code",
   "execution_count": 9,
   "id": "79f22633",
   "metadata": {
    "execution": {
     "iopub.execute_input": "2022-07-14T10:19:30.761359Z",
     "iopub.status.busy": "2022-07-14T10:19:30.760812Z",
     "iopub.status.idle": "2022-07-14T10:19:30.952393Z",
     "shell.execute_reply": "2022-07-14T10:19:30.951423Z"
    },
    "papermill": {
     "duration": 0.204215,
     "end_time": "2022-07-14T10:19:30.954731",
     "exception": false,
     "start_time": "2022-07-14T10:19:30.750516",
     "status": "completed"
    },
    "tags": []
   },
   "outputs": [
    {
     "data": {
      "application/vnd.jupyter.widget-view+json": {
       "model_id": "e1bc290d05d345eaa09691f4d966c1f0",
       "version_major": 2,
       "version_minor": 0
      },
      "text/plain": [
       "  0%|          | 0/40456 [00:00<?, ?it/s]"
      ]
     },
     "metadata": {},
     "output_type": "display_data"
    }
   ],
   "source": [
    "#image captions mapping\n",
    "captions_mapping = {}\n",
    "\n",
    "for L in tqdm(captions_file.split('\\n')):\n",
    "    #splitting the image name and captions.\n",
    "    idcap = L.split(',')\n",
    "    if(len(L) < 2):\n",
    "        continue\n",
    "    image_id, caption = idcap[0], idcap[1]\n",
    "    #removing image id \n",
    "    image_id = image_id.split('.')[0]\n",
    "    \n",
    "    caption = ''.join(caption)\n",
    "    \n",
    "    if image_id not in captions_mapping:\n",
    "        captions_mapping[image_id] = []\n",
    "    captions_mapping[image_id].append(caption)"
   ]
  },
  {
   "cell_type": "code",
   "execution_count": 10,
   "id": "adf16815",
   "metadata": {
    "execution": {
     "iopub.execute_input": "2022-07-14T10:19:30.975299Z",
     "iopub.status.busy": "2022-07-14T10:19:30.974363Z",
     "iopub.status.idle": "2022-07-14T10:19:30.980281Z",
     "shell.execute_reply": "2022-07-14T10:19:30.979260Z"
    },
    "papermill": {
     "duration": 0.019256,
     "end_time": "2022-07-14T10:19:30.983036",
     "exception": false,
     "start_time": "2022-07-14T10:19:30.963780",
     "status": "completed"
    },
    "tags": []
   },
   "outputs": [
    {
     "name": "stdout",
     "output_type": "stream",
     "text": [
      "8091 8091\n"
     ]
    }
   ],
   "source": [
    "print(len(captions_mapping), len(features))"
   ]
  },
  {
   "cell_type": "code",
   "execution_count": 11,
   "id": "0a971d08",
   "metadata": {
    "execution": {
     "iopub.execute_input": "2022-07-14T10:19:31.002999Z",
     "iopub.status.busy": "2022-07-14T10:19:31.002731Z",
     "iopub.status.idle": "2022-07-14T10:19:31.010178Z",
     "shell.execute_reply": "2022-07-14T10:19:31.009324Z"
    },
    "papermill": {
     "duration": 0.019308,
     "end_time": "2022-07-14T10:19:31.012115",
     "exception": false,
     "start_time": "2022-07-14T10:19:30.992807",
     "status": "completed"
    },
    "tags": []
   },
   "outputs": [],
   "source": [
    "# Preprocessing the captions data\n",
    "def clean(captions_mapping):\n",
    "    for key, captions in captions_mapping.items():\n",
    "        for i in range(len(captions)):\n",
    "            # Taking one caption at a time\n",
    "            caption = captions[i]\n",
    "            # Convert to lower case\n",
    "            caption = caption.lower()\n",
    "            # Delete digits, special characters etc...\n",
    "            caption = caption.replace('[^A-Za-z]', '')\n",
    "            # Delete additional spaces\n",
    "            caption = caption.replace('\\s+', ' ')\n",
    "            # Adding start and end tags to the caption\n",
    "            caption = '<start> ' + ' '.join([word for word in caption.split() if len(word) > 1]) + ' <end>'\n",
    "            captions[i] = caption"
   ]
  },
  {
   "cell_type": "code",
   "execution_count": 12,
   "id": "21db4fd6",
   "metadata": {
    "execution": {
     "iopub.execute_input": "2022-07-14T10:19:31.031796Z",
     "iopub.status.busy": "2022-07-14T10:19:31.031525Z",
     "iopub.status.idle": "2022-07-14T10:19:31.038134Z",
     "shell.execute_reply": "2022-07-14T10:19:31.037246Z"
    },
    "papermill": {
     "duration": 0.01851,
     "end_time": "2022-07-14T10:19:31.039937",
     "exception": false,
     "start_time": "2022-07-14T10:19:31.021427",
     "status": "completed"
    },
    "tags": []
   },
   "outputs": [
    {
     "data": {
      "text/plain": [
       "['A child in a pink dress is climbing up a set of stairs in an entry way .',\n",
       " 'A girl going into a wooden building .',\n",
       " 'A little girl climbing into a wooden playhouse .',\n",
       " 'A little girl climbing the stairs to her playhouse .',\n",
       " 'A little girl in a pink dress going into a wooden cabin .']"
      ]
     },
     "execution_count": 12,
     "metadata": {},
     "output_type": "execute_result"
    }
   ],
   "source": [
    "# Before preprocessing the captions\n",
    "captions_mapping['1000268201_693b08cb0e']"
   ]
  },
  {
   "cell_type": "code",
   "execution_count": 13,
   "id": "fc2716ea",
   "metadata": {
    "execution": {
     "iopub.execute_input": "2022-07-14T10:19:31.059284Z",
     "iopub.status.busy": "2022-07-14T10:19:31.058704Z",
     "iopub.status.idle": "2022-07-14T10:19:31.196268Z",
     "shell.execute_reply": "2022-07-14T10:19:31.195174Z"
    },
    "papermill": {
     "duration": 0.149779,
     "end_time": "2022-07-14T10:19:31.198713",
     "exception": false,
     "start_time": "2022-07-14T10:19:31.048934",
     "status": "completed"
    },
    "tags": []
   },
   "outputs": [
    {
     "data": {
      "text/plain": [
       "['<start> child in pink dress is climbing up set of stairs in an entry way <end>',\n",
       " '<start> girl going into wooden building <end>',\n",
       " '<start> little girl climbing into wooden playhouse <end>',\n",
       " '<start> little girl climbing the stairs to her playhouse <end>',\n",
       " '<start> little girl in pink dress going into wooden cabin <end>']"
      ]
     },
     "execution_count": 13,
     "metadata": {},
     "output_type": "execute_result"
    }
   ],
   "source": [
    "# After preprocessing the captions\n",
    "clean(captions_mapping)\n",
    "captions_mapping['1000268201_693b08cb0e']"
   ]
  },
  {
   "cell_type": "code",
   "execution_count": 14,
   "id": "aa6b1aa0",
   "metadata": {
    "execution": {
     "iopub.execute_input": "2022-07-14T10:19:31.218656Z",
     "iopub.status.busy": "2022-07-14T10:19:31.218391Z",
     "iopub.status.idle": "2022-07-14T10:19:31.232787Z",
     "shell.execute_reply": "2022-07-14T10:19:31.231993Z"
    },
    "papermill": {
     "duration": 0.026286,
     "end_time": "2022-07-14T10:19:31.234728",
     "exception": false,
     "start_time": "2022-07-14T10:19:31.208442",
     "status": "completed"
    },
    "tags": []
   },
   "outputs": [],
   "source": [
    "# Gathering all the captions into a single list\n",
    "all_captions = []\n",
    "for key in captions_mapping:\n",
    "    for caption in captions_mapping[key]:\n",
    "        all_captions.append(caption)"
   ]
  },
  {
   "cell_type": "code",
   "execution_count": 15,
   "id": "d45cd947",
   "metadata": {
    "execution": {
     "iopub.execute_input": "2022-07-14T10:19:31.254648Z",
     "iopub.status.busy": "2022-07-14T10:19:31.254389Z",
     "iopub.status.idle": "2022-07-14T10:19:31.259720Z",
     "shell.execute_reply": "2022-07-14T10:19:31.258861Z"
    },
    "papermill": {
     "duration": 0.017571,
     "end_time": "2022-07-14T10:19:31.261699",
     "exception": false,
     "start_time": "2022-07-14T10:19:31.244128",
     "status": "completed"
    },
    "tags": []
   },
   "outputs": [
    {
     "data": {
      "text/plain": [
       "40455"
      ]
     },
     "execution_count": 15,
     "metadata": {},
     "output_type": "execute_result"
    }
   ],
   "source": [
    "len(all_captions)"
   ]
  },
  {
   "cell_type": "code",
   "execution_count": 16,
   "id": "e7b610ad",
   "metadata": {
    "execution": {
     "iopub.execute_input": "2022-07-14T10:19:31.281114Z",
     "iopub.status.busy": "2022-07-14T10:19:31.280833Z",
     "iopub.status.idle": "2022-07-14T10:19:31.902202Z",
     "shell.execute_reply": "2022-07-14T10:19:31.901227Z"
    },
    "papermill": {
     "duration": 0.633721,
     "end_time": "2022-07-14T10:19:31.904485",
     "exception": false,
     "start_time": "2022-07-14T10:19:31.270764",
     "status": "completed"
    },
    "tags": []
   },
   "outputs": [],
   "source": [
    "# Counts total no.of words in a array of strings excluding some special characters like punctuation marks\n",
    "tokenizer = Tokenizer()\n",
    "tokenizer.fit_on_texts(all_captions)\n",
    "vocab_size = len(tokenizer.word_index) + 1"
   ]
  },
  {
   "cell_type": "code",
   "execution_count": 17,
   "id": "9e1a4353",
   "metadata": {
    "execution": {
     "iopub.execute_input": "2022-07-14T10:19:31.926586Z",
     "iopub.status.busy": "2022-07-14T10:19:31.926277Z",
     "iopub.status.idle": "2022-07-14T10:19:31.932258Z",
     "shell.execute_reply": "2022-07-14T10:19:31.931317Z"
    },
    "papermill": {
     "duration": 0.019718,
     "end_time": "2022-07-14T10:19:31.934107",
     "exception": false,
     "start_time": "2022-07-14T10:19:31.914389",
     "status": "completed"
    },
    "tags": []
   },
   "outputs": [
    {
     "data": {
      "text/plain": [
       "8311"
      ]
     },
     "execution_count": 17,
     "metadata": {},
     "output_type": "execute_result"
    }
   ],
   "source": [
    "vocab_size"
   ]
  },
  {
   "cell_type": "code",
   "execution_count": 18,
   "id": "4b38cab9",
   "metadata": {
    "execution": {
     "iopub.execute_input": "2022-07-14T10:19:31.955459Z",
     "iopub.status.busy": "2022-07-14T10:19:31.954416Z",
     "iopub.status.idle": "2022-07-14T10:19:31.988717Z",
     "shell.execute_reply": "2022-07-14T10:19:31.987718Z"
    },
    "papermill": {
     "duration": 0.047458,
     "end_time": "2022-07-14T10:19:31.991001",
     "exception": false,
     "start_time": "2022-07-14T10:19:31.943543",
     "status": "completed"
    },
    "tags": []
   },
   "outputs": [
    {
     "data": {
      "text/plain": [
       "31"
      ]
     },
     "execution_count": 18,
     "metadata": {},
     "output_type": "execute_result"
    }
   ],
   "source": [
    "# Get the maximum length of the caption\n",
    "max_cap_len = max([len(caption.split()) for caption in all_captions])\n",
    "max_cap_len"
   ]
  },
  {
   "cell_type": "code",
   "execution_count": 19,
   "id": "86ab52a1",
   "metadata": {
    "execution": {
     "iopub.execute_input": "2022-07-14T10:19:32.010999Z",
     "iopub.status.busy": "2022-07-14T10:19:32.010727Z",
     "iopub.status.idle": "2022-07-14T10:19:32.017407Z",
     "shell.execute_reply": "2022-07-14T10:19:32.016459Z"
    },
    "papermill": {
     "duration": 0.018819,
     "end_time": "2022-07-14T10:19:32.019369",
     "exception": false,
     "start_time": "2022-07-14T10:19:32.000550",
     "status": "completed"
    },
    "tags": []
   },
   "outputs": [],
   "source": [
    "# Splitting the tarin and test data\n",
    "img_ids = list(captions_mapping.keys())\n",
    "split = int(len(img_ids)*0.9)\n",
    "train_data = img_ids[:split]\n",
    "test_data = img_ids[split:]"
   ]
  },
  {
   "cell_type": "code",
   "execution_count": 20,
   "id": "a4866281",
   "metadata": {
    "execution": {
     "iopub.execute_input": "2022-07-14T10:19:32.039865Z",
     "iopub.status.busy": "2022-07-14T10:19:32.039610Z",
     "iopub.status.idle": "2022-07-14T10:19:32.044418Z",
     "shell.execute_reply": "2022-07-14T10:19:32.043436Z"
    },
    "papermill": {
     "duration": 0.018648,
     "end_time": "2022-07-14T10:19:32.047863",
     "exception": false,
     "start_time": "2022-07-14T10:19:32.029215",
     "status": "completed"
    },
    "tags": []
   },
   "outputs": [
    {
     "name": "stdout",
     "output_type": "stream",
     "text": [
      "7281 810\n"
     ]
    }
   ],
   "source": [
    "print(len(train_data), len(test_data))"
   ]
  },
  {
   "cell_type": "code",
   "execution_count": 21,
   "id": "ccfdb4ac",
   "metadata": {
    "execution": {
     "iopub.execute_input": "2022-07-14T10:19:32.069509Z",
     "iopub.status.busy": "2022-07-14T10:19:32.069264Z",
     "iopub.status.idle": "2022-07-14T10:19:32.078792Z",
     "shell.execute_reply": "2022-07-14T10:19:32.077892Z"
    },
    "papermill": {
     "duration": 0.021935,
     "end_time": "2022-07-14T10:19:32.080795",
     "exception": false,
     "start_time": "2022-07-14T10:19:32.058860",
     "status": "completed"
    },
    "tags": []
   },
   "outputs": [],
   "source": [
    "#data in batches\n",
    "def data_batch(data_keys, captions_mapping, features, tokenizer, max_cap_len, vocab_size, batch_size):\n",
    "    X1, X2, y = list(),  list(), list()\n",
    "    count = 0\n",
    "    while 1:\n",
    "        for key in data_keys:\n",
    "            count += 1\n",
    "            captions = captions_mapping[key]\n",
    "            for caption in captions:\n",
    "                seq = tokenizer.texts_to_sequence([caption])[0]\n",
    "                for i in range(1, len(seq)):\n",
    "                    in_seq = seq[:i]\n",
    "                    out_seq = seq[i]\n",
    "                    \n",
    "                    in_seq = pad_sequences([in_seq], maxlen = max_cap_len)[0]\n",
    "                    \n",
    "                    out_seq = to_categorical([out_seq], num_classes = vocab_size)[0]\n",
    "                    \n",
    "                    X1.append(features[key][0])\n",
    "                    X2.append(in_seq)\n",
    "                    y.append(out_seq)\n",
    "            if(count == batch_size):\n",
    "                X1 = np.array(X1)\n",
    "                X2 = np.array(X2)\n",
    "                y = np.array(y)\n",
    "                yield [X1,X2], y\n",
    "                X1, X2, y = list(),  list(), list()\n",
    "                count = 0"
   ]
  },
  {
   "cell_type": "code",
   "execution_count": 22,
   "id": "54f552cb",
   "metadata": {
    "execution": {
     "iopub.execute_input": "2022-07-14T10:19:32.101422Z",
     "iopub.status.busy": "2022-07-14T10:19:32.101165Z",
     "iopub.status.idle": "2022-07-14T10:19:34.272665Z",
     "shell.execute_reply": "2022-07-14T10:19:34.271255Z"
    },
    "papermill": {
     "duration": 2.185705,
     "end_time": "2022-07-14T10:19:34.276057",
     "exception": false,
     "start_time": "2022-07-14T10:19:32.090352",
     "status": "completed"
    },
    "tags": []
   },
   "outputs": [],
   "source": [
    "#Model creation\n",
    "\n",
    "inputs1 = Input(shape = (4096,))\n",
    "feature1 = Dropout(0.4)(inputs1)\n",
    "feature2 = Dense(256, activation = 'relu')(feature1)\n",
    "\n",
    "inputs2 = Input(shape = (max_cap_len,))\n",
    "sequence1 = Embedding(vocab_size, 256, mask_zero = True)(inputs2)\n",
    "sequence2 = Dropout(0.4)(sequence1)\n",
    "sequence3 = LSTM(256)(sequence2)\n",
    "\n",
    "decoder1 = add([feature2, sequence3])\n",
    "decoder2 = Dense(256, activation = 'relu')(decoder1)\n",
    "outputs = Dense(vocab_size, activation = 'softmax')(decoder2)\n",
    "\n",
    "model = Model(inputs = [inputs1,inputs2], outputs = outputs)\n",
    "model.compile(loss = 'categorical_crossentropy', optimizer='adam')\n",
    "\n",
    "plot_model(model, show_shapes = True);"
   ]
  },
  {
   "cell_type": "code",
   "execution_count": null,
   "id": "b78737fc",
   "metadata": {
    "papermill": {
     "duration": 0.017136,
     "end_time": "2022-07-14T10:19:34.310296",
     "exception": false,
     "start_time": "2022-07-14T10:19:34.293160",
     "status": "completed"
    },
    "tags": []
   },
   "outputs": [],
   "source": []
  }
 ],
 "metadata": {
  "kernelspec": {
   "display_name": "Python 3",
   "language": "python",
   "name": "python3"
  },
  "language_info": {
   "codemirror_mode": {
    "name": "ipython",
    "version": 3
   },
   "file_extension": ".py",
   "mimetype": "text/x-python",
   "name": "python",
   "nbconvert_exporter": "python",
   "pygments_lexer": "ipython3",
   "version": "3.7.12"
  },
  "papermill": {
   "default_parameters": {},
   "duration": 513.587675,
   "end_time": "2022-07-14T10:19:37.180288",
   "environment_variables": {},
   "exception": null,
   "input_path": "__notebook__.ipynb",
   "output_path": "__notebook__.ipynb",
   "parameters": {},
   "start_time": "2022-07-14T10:11:03.592613",
   "version": "2.3.4"
  },
  "widgets": {
   "application/vnd.jupyter.widget-state+json": {
    "state": {
     "08dc6005c4154658822a7861b7897704": {
      "model_module": "@jupyter-widgets/base",
      "model_module_version": "1.2.0",
      "model_name": "LayoutModel",
      "state": {
       "_model_module": "@jupyter-widgets/base",
       "_model_module_version": "1.2.0",
       "_model_name": "LayoutModel",
       "_view_count": null,
       "_view_module": "@jupyter-widgets/base",
       "_view_module_version": "1.2.0",
       "_view_name": "LayoutView",
       "align_content": null,
       "align_items": null,
       "align_self": null,
       "border": null,
       "bottom": null,
       "display": null,
       "flex": null,
       "flex_flow": null,
       "grid_area": null,
       "grid_auto_columns": null,
       "grid_auto_flow": null,
       "grid_auto_rows": null,
       "grid_column": null,
       "grid_gap": null,
       "grid_row": null,
       "grid_template_areas": null,
       "grid_template_columns": null,
       "grid_template_rows": null,
       "height": null,
       "justify_content": null,
       "justify_items": null,
       "left": null,
       "margin": null,
       "max_height": null,
       "max_width": null,
       "min_height": null,
       "min_width": null,
       "object_fit": null,
       "object_position": null,
       "order": null,
       "overflow": null,
       "overflow_x": null,
       "overflow_y": null,
       "padding": null,
       "right": null,
       "top": null,
       "visibility": null,
       "width": null
      }
     },
     "1f9c503d120d4bdb8c330393c76bde3f": {
      "model_module": "@jupyter-widgets/controls",
      "model_module_version": "1.5.0",
      "model_name": "ProgressStyleModel",
      "state": {
       "_model_module": "@jupyter-widgets/controls",
       "_model_module_version": "1.5.0",
       "_model_name": "ProgressStyleModel",
       "_view_count": null,
       "_view_module": "@jupyter-widgets/base",
       "_view_module_version": "1.2.0",
       "_view_name": "StyleView",
       "bar_color": null,
       "description_width": ""
      }
     },
     "21b03883f5bf4fd189e7eb2033905286": {
      "model_module": "@jupyter-widgets/controls",
      "model_module_version": "1.5.0",
      "model_name": "FloatProgressModel",
      "state": {
       "_dom_classes": [],
       "_model_module": "@jupyter-widgets/controls",
       "_model_module_version": "1.5.0",
       "_model_name": "FloatProgressModel",
       "_view_count": null,
       "_view_module": "@jupyter-widgets/controls",
       "_view_module_version": "1.5.0",
       "_view_name": "ProgressView",
       "bar_style": "success",
       "description": "",
       "description_tooltip": null,
       "layout": "IPY_MODEL_cab13e8f2be34c55a7be5015f6bd4dec",
       "max": 40456.0,
       "min": 0.0,
       "orientation": "horizontal",
       "style": "IPY_MODEL_34b033f03052432780516afa625aaee6",
       "value": 40456.0
      }
     },
     "34b033f03052432780516afa625aaee6": {
      "model_module": "@jupyter-widgets/controls",
      "model_module_version": "1.5.0",
      "model_name": "ProgressStyleModel",
      "state": {
       "_model_module": "@jupyter-widgets/controls",
       "_model_module_version": "1.5.0",
       "_model_name": "ProgressStyleModel",
       "_view_count": null,
       "_view_module": "@jupyter-widgets/base",
       "_view_module_version": "1.2.0",
       "_view_name": "StyleView",
       "bar_color": null,
       "description_width": ""
      }
     },
     "4682678efbbc4daeb38331e81c3e8806": {
      "model_module": "@jupyter-widgets/base",
      "model_module_version": "1.2.0",
      "model_name": "LayoutModel",
      "state": {
       "_model_module": "@jupyter-widgets/base",
       "_model_module_version": "1.2.0",
       "_model_name": "LayoutModel",
       "_view_count": null,
       "_view_module": "@jupyter-widgets/base",
       "_view_module_version": "1.2.0",
       "_view_name": "LayoutView",
       "align_content": null,
       "align_items": null,
       "align_self": null,
       "border": null,
       "bottom": null,
       "display": null,
       "flex": null,
       "flex_flow": null,
       "grid_area": null,
       "grid_auto_columns": null,
       "grid_auto_flow": null,
       "grid_auto_rows": null,
       "grid_column": null,
       "grid_gap": null,
       "grid_row": null,
       "grid_template_areas": null,
       "grid_template_columns": null,
       "grid_template_rows": null,
       "height": null,
       "justify_content": null,
       "justify_items": null,
       "left": null,
       "margin": null,
       "max_height": null,
       "max_width": null,
       "min_height": null,
       "min_width": null,
       "object_fit": null,
       "object_position": null,
       "order": null,
       "overflow": null,
       "overflow_x": null,
       "overflow_y": null,
       "padding": null,
       "right": null,
       "top": null,
       "visibility": null,
       "width": null
      }
     },
     "56f39651659243469f279adc4d963cf2": {
      "model_module": "@jupyter-widgets/controls",
      "model_module_version": "1.5.0",
      "model_name": "HTMLModel",
      "state": {
       "_dom_classes": [],
       "_model_module": "@jupyter-widgets/controls",
       "_model_module_version": "1.5.0",
       "_model_name": "HTMLModel",
       "_view_count": null,
       "_view_module": "@jupyter-widgets/controls",
       "_view_module_version": "1.5.0",
       "_view_name": "HTMLView",
       "description": "",
       "description_tooltip": null,
       "layout": "IPY_MODEL_cef5be5c702342deba8e66a7ba1cb7ed",
       "placeholder": "​",
       "style": "IPY_MODEL_79797febf53b4abdbe96e75d4d469942",
       "value": "100%"
      }
     },
     "591402bee0234c28a55105fca8dc71aa": {
      "model_module": "@jupyter-widgets/controls",
      "model_module_version": "1.5.0",
      "model_name": "HTMLModel",
      "state": {
       "_dom_classes": [],
       "_model_module": "@jupyter-widgets/controls",
       "_model_module_version": "1.5.0",
       "_model_name": "HTMLModel",
       "_view_count": null,
       "_view_module": "@jupyter-widgets/controls",
       "_view_module_version": "1.5.0",
       "_view_name": "HTMLView",
       "description": "",
       "description_tooltip": null,
       "layout": "IPY_MODEL_bf9405f8215142409a6c9271ce3d97ef",
       "placeholder": "​",
       "style": "IPY_MODEL_f554742e239b463ca8b8027945403d92",
       "value": " 8091/8091 [08:04&lt;00:00, 16.67it/s]"
      }
     },
     "5fb822c029564c65b2476a6954d17baa": {
      "model_module": "@jupyter-widgets/controls",
      "model_module_version": "1.5.0",
      "model_name": "HBoxModel",
      "state": {
       "_dom_classes": [],
       "_model_module": "@jupyter-widgets/controls",
       "_model_module_version": "1.5.0",
       "_model_name": "HBoxModel",
       "_view_count": null,
       "_view_module": "@jupyter-widgets/controls",
       "_view_module_version": "1.5.0",
       "_view_name": "HBoxView",
       "box_style": "",
       "children": [
        "IPY_MODEL_6fe2593be6644ec0bf838c7f5aa776cd",
        "IPY_MODEL_f760234433144d4b81db26753cb401b3",
        "IPY_MODEL_591402bee0234c28a55105fca8dc71aa"
       ],
       "layout": "IPY_MODEL_64b86a29aebc4dd2aeea58c7e208351c"
      }
     },
     "6240269b835a4a0ea8a2394b365a0980": {
      "model_module": "@jupyter-widgets/base",
      "model_module_version": "1.2.0",
      "model_name": "LayoutModel",
      "state": {
       "_model_module": "@jupyter-widgets/base",
       "_model_module_version": "1.2.0",
       "_model_name": "LayoutModel",
       "_view_count": null,
       "_view_module": "@jupyter-widgets/base",
       "_view_module_version": "1.2.0",
       "_view_name": "LayoutView",
       "align_content": null,
       "align_items": null,
       "align_self": null,
       "border": null,
       "bottom": null,
       "display": null,
       "flex": null,
       "flex_flow": null,
       "grid_area": null,
       "grid_auto_columns": null,
       "grid_auto_flow": null,
       "grid_auto_rows": null,
       "grid_column": null,
       "grid_gap": null,
       "grid_row": null,
       "grid_template_areas": null,
       "grid_template_columns": null,
       "grid_template_rows": null,
       "height": null,
       "justify_content": null,
       "justify_items": null,
       "left": null,
       "margin": null,
       "max_height": null,
       "max_width": null,
       "min_height": null,
       "min_width": null,
       "object_fit": null,
       "object_position": null,
       "order": null,
       "overflow": null,
       "overflow_x": null,
       "overflow_y": null,
       "padding": null,
       "right": null,
       "top": null,
       "visibility": null,
       "width": null
      }
     },
     "64b86a29aebc4dd2aeea58c7e208351c": {
      "model_module": "@jupyter-widgets/base",
      "model_module_version": "1.2.0",
      "model_name": "LayoutModel",
      "state": {
       "_model_module": "@jupyter-widgets/base",
       "_model_module_version": "1.2.0",
       "_model_name": "LayoutModel",
       "_view_count": null,
       "_view_module": "@jupyter-widgets/base",
       "_view_module_version": "1.2.0",
       "_view_name": "LayoutView",
       "align_content": null,
       "align_items": null,
       "align_self": null,
       "border": null,
       "bottom": null,
       "display": null,
       "flex": null,
       "flex_flow": null,
       "grid_area": null,
       "grid_auto_columns": null,
       "grid_auto_flow": null,
       "grid_auto_rows": null,
       "grid_column": null,
       "grid_gap": null,
       "grid_row": null,
       "grid_template_areas": null,
       "grid_template_columns": null,
       "grid_template_rows": null,
       "height": null,
       "justify_content": null,
       "justify_items": null,
       "left": null,
       "margin": null,
       "max_height": null,
       "max_width": null,
       "min_height": null,
       "min_width": null,
       "object_fit": null,
       "object_position": null,
       "order": null,
       "overflow": null,
       "overflow_x": null,
       "overflow_y": null,
       "padding": null,
       "right": null,
       "top": null,
       "visibility": null,
       "width": null
      }
     },
     "6fe2593be6644ec0bf838c7f5aa776cd": {
      "model_module": "@jupyter-widgets/controls",
      "model_module_version": "1.5.0",
      "model_name": "HTMLModel",
      "state": {
       "_dom_classes": [],
       "_model_module": "@jupyter-widgets/controls",
       "_model_module_version": "1.5.0",
       "_model_name": "HTMLModel",
       "_view_count": null,
       "_view_module": "@jupyter-widgets/controls",
       "_view_module_version": "1.5.0",
       "_view_name": "HTMLView",
       "description": "",
       "description_tooltip": null,
       "layout": "IPY_MODEL_6240269b835a4a0ea8a2394b365a0980",
       "placeholder": "​",
       "style": "IPY_MODEL_f9be06edf4ab49da9f351d43a5570ee6",
       "value": "100%"
      }
     },
     "79797febf53b4abdbe96e75d4d469942": {
      "model_module": "@jupyter-widgets/controls",
      "model_module_version": "1.5.0",
      "model_name": "DescriptionStyleModel",
      "state": {
       "_model_module": "@jupyter-widgets/controls",
       "_model_module_version": "1.5.0",
       "_model_name": "DescriptionStyleModel",
       "_view_count": null,
       "_view_module": "@jupyter-widgets/base",
       "_view_module_version": "1.2.0",
       "_view_name": "StyleView",
       "description_width": ""
      }
     },
     "83bad0e2f6c64ad4a601658a9f2d5c1f": {
      "model_module": "@jupyter-widgets/base",
      "model_module_version": "1.2.0",
      "model_name": "LayoutModel",
      "state": {
       "_model_module": "@jupyter-widgets/base",
       "_model_module_version": "1.2.0",
       "_model_name": "LayoutModel",
       "_view_count": null,
       "_view_module": "@jupyter-widgets/base",
       "_view_module_version": "1.2.0",
       "_view_name": "LayoutView",
       "align_content": null,
       "align_items": null,
       "align_self": null,
       "border": null,
       "bottom": null,
       "display": null,
       "flex": null,
       "flex_flow": null,
       "grid_area": null,
       "grid_auto_columns": null,
       "grid_auto_flow": null,
       "grid_auto_rows": null,
       "grid_column": null,
       "grid_gap": null,
       "grid_row": null,
       "grid_template_areas": null,
       "grid_template_columns": null,
       "grid_template_rows": null,
       "height": null,
       "justify_content": null,
       "justify_items": null,
       "left": null,
       "margin": null,
       "max_height": null,
       "max_width": null,
       "min_height": null,
       "min_width": null,
       "object_fit": null,
       "object_position": null,
       "order": null,
       "overflow": null,
       "overflow_x": null,
       "overflow_y": null,
       "padding": null,
       "right": null,
       "top": null,
       "visibility": null,
       "width": null
      }
     },
     "98864a3093594c67ab28d4a5690e5f12": {
      "model_module": "@jupyter-widgets/controls",
      "model_module_version": "1.5.0",
      "model_name": "DescriptionStyleModel",
      "state": {
       "_model_module": "@jupyter-widgets/controls",
       "_model_module_version": "1.5.0",
       "_model_name": "DescriptionStyleModel",
       "_view_count": null,
       "_view_module": "@jupyter-widgets/base",
       "_view_module_version": "1.2.0",
       "_view_name": "StyleView",
       "description_width": ""
      }
     },
     "bf9405f8215142409a6c9271ce3d97ef": {
      "model_module": "@jupyter-widgets/base",
      "model_module_version": "1.2.0",
      "model_name": "LayoutModel",
      "state": {
       "_model_module": "@jupyter-widgets/base",
       "_model_module_version": "1.2.0",
       "_model_name": "LayoutModel",
       "_view_count": null,
       "_view_module": "@jupyter-widgets/base",
       "_view_module_version": "1.2.0",
       "_view_name": "LayoutView",
       "align_content": null,
       "align_items": null,
       "align_self": null,
       "border": null,
       "bottom": null,
       "display": null,
       "flex": null,
       "flex_flow": null,
       "grid_area": null,
       "grid_auto_columns": null,
       "grid_auto_flow": null,
       "grid_auto_rows": null,
       "grid_column": null,
       "grid_gap": null,
       "grid_row": null,
       "grid_template_areas": null,
       "grid_template_columns": null,
       "grid_template_rows": null,
       "height": null,
       "justify_content": null,
       "justify_items": null,
       "left": null,
       "margin": null,
       "max_height": null,
       "max_width": null,
       "min_height": null,
       "min_width": null,
       "object_fit": null,
       "object_position": null,
       "order": null,
       "overflow": null,
       "overflow_x": null,
       "overflow_y": null,
       "padding": null,
       "right": null,
       "top": null,
       "visibility": null,
       "width": null
      }
     },
     "cab13e8f2be34c55a7be5015f6bd4dec": {
      "model_module": "@jupyter-widgets/base",
      "model_module_version": "1.2.0",
      "model_name": "LayoutModel",
      "state": {
       "_model_module": "@jupyter-widgets/base",
       "_model_module_version": "1.2.0",
       "_model_name": "LayoutModel",
       "_view_count": null,
       "_view_module": "@jupyter-widgets/base",
       "_view_module_version": "1.2.0",
       "_view_name": "LayoutView",
       "align_content": null,
       "align_items": null,
       "align_self": null,
       "border": null,
       "bottom": null,
       "display": null,
       "flex": null,
       "flex_flow": null,
       "grid_area": null,
       "grid_auto_columns": null,
       "grid_auto_flow": null,
       "grid_auto_rows": null,
       "grid_column": null,
       "grid_gap": null,
       "grid_row": null,
       "grid_template_areas": null,
       "grid_template_columns": null,
       "grid_template_rows": null,
       "height": null,
       "justify_content": null,
       "justify_items": null,
       "left": null,
       "margin": null,
       "max_height": null,
       "max_width": null,
       "min_height": null,
       "min_width": null,
       "object_fit": null,
       "object_position": null,
       "order": null,
       "overflow": null,
       "overflow_x": null,
       "overflow_y": null,
       "padding": null,
       "right": null,
       "top": null,
       "visibility": null,
       "width": null
      }
     },
     "cef5be5c702342deba8e66a7ba1cb7ed": {
      "model_module": "@jupyter-widgets/base",
      "model_module_version": "1.2.0",
      "model_name": "LayoutModel",
      "state": {
       "_model_module": "@jupyter-widgets/base",
       "_model_module_version": "1.2.0",
       "_model_name": "LayoutModel",
       "_view_count": null,
       "_view_module": "@jupyter-widgets/base",
       "_view_module_version": "1.2.0",
       "_view_name": "LayoutView",
       "align_content": null,
       "align_items": null,
       "align_self": null,
       "border": null,
       "bottom": null,
       "display": null,
       "flex": null,
       "flex_flow": null,
       "grid_area": null,
       "grid_auto_columns": null,
       "grid_auto_flow": null,
       "grid_auto_rows": null,
       "grid_column": null,
       "grid_gap": null,
       "grid_row": null,
       "grid_template_areas": null,
       "grid_template_columns": null,
       "grid_template_rows": null,
       "height": null,
       "justify_content": null,
       "justify_items": null,
       "left": null,
       "margin": null,
       "max_height": null,
       "max_width": null,
       "min_height": null,
       "min_width": null,
       "object_fit": null,
       "object_position": null,
       "order": null,
       "overflow": null,
       "overflow_x": null,
       "overflow_y": null,
       "padding": null,
       "right": null,
       "top": null,
       "visibility": null,
       "width": null
      }
     },
     "e1bc290d05d345eaa09691f4d966c1f0": {
      "model_module": "@jupyter-widgets/controls",
      "model_module_version": "1.5.0",
      "model_name": "HBoxModel",
      "state": {
       "_dom_classes": [],
       "_model_module": "@jupyter-widgets/controls",
       "_model_module_version": "1.5.0",
       "_model_name": "HBoxModel",
       "_view_count": null,
       "_view_module": "@jupyter-widgets/controls",
       "_view_module_version": "1.5.0",
       "_view_name": "HBoxView",
       "box_style": "",
       "children": [
        "IPY_MODEL_56f39651659243469f279adc4d963cf2",
        "IPY_MODEL_21b03883f5bf4fd189e7eb2033905286",
        "IPY_MODEL_f5fb2e666c064023a2bc0747da2593b0"
       ],
       "layout": "IPY_MODEL_83bad0e2f6c64ad4a601658a9f2d5c1f"
      }
     },
     "f554742e239b463ca8b8027945403d92": {
      "model_module": "@jupyter-widgets/controls",
      "model_module_version": "1.5.0",
      "model_name": "DescriptionStyleModel",
      "state": {
       "_model_module": "@jupyter-widgets/controls",
       "_model_module_version": "1.5.0",
       "_model_name": "DescriptionStyleModel",
       "_view_count": null,
       "_view_module": "@jupyter-widgets/base",
       "_view_module_version": "1.2.0",
       "_view_name": "StyleView",
       "description_width": ""
      }
     },
     "f5fb2e666c064023a2bc0747da2593b0": {
      "model_module": "@jupyter-widgets/controls",
      "model_module_version": "1.5.0",
      "model_name": "HTMLModel",
      "state": {
       "_dom_classes": [],
       "_model_module": "@jupyter-widgets/controls",
       "_model_module_version": "1.5.0",
       "_model_name": "HTMLModel",
       "_view_count": null,
       "_view_module": "@jupyter-widgets/controls",
       "_view_module_version": "1.5.0",
       "_view_name": "HTMLView",
       "description": "",
       "description_tooltip": null,
       "layout": "IPY_MODEL_4682678efbbc4daeb38331e81c3e8806",
       "placeholder": "​",
       "style": "IPY_MODEL_98864a3093594c67ab28d4a5690e5f12",
       "value": " 40456/40456 [00:00&lt;00:00, 190047.68it/s]"
      }
     },
     "f760234433144d4b81db26753cb401b3": {
      "model_module": "@jupyter-widgets/controls",
      "model_module_version": "1.5.0",
      "model_name": "FloatProgressModel",
      "state": {
       "_dom_classes": [],
       "_model_module": "@jupyter-widgets/controls",
       "_model_module_version": "1.5.0",
       "_model_name": "FloatProgressModel",
       "_view_count": null,
       "_view_module": "@jupyter-widgets/controls",
       "_view_module_version": "1.5.0",
       "_view_name": "ProgressView",
       "bar_style": "success",
       "description": "",
       "description_tooltip": null,
       "layout": "IPY_MODEL_08dc6005c4154658822a7861b7897704",
       "max": 8091.0,
       "min": 0.0,
       "orientation": "horizontal",
       "style": "IPY_MODEL_1f9c503d120d4bdb8c330393c76bde3f",
       "value": 8091.0
      }
     },
     "f9be06edf4ab49da9f351d43a5570ee6": {
      "model_module": "@jupyter-widgets/controls",
      "model_module_version": "1.5.0",
      "model_name": "DescriptionStyleModel",
      "state": {
       "_model_module": "@jupyter-widgets/controls",
       "_model_module_version": "1.5.0",
       "_model_name": "DescriptionStyleModel",
       "_view_count": null,
       "_view_module": "@jupyter-widgets/base",
       "_view_module_version": "1.2.0",
       "_view_name": "StyleView",
       "description_width": ""
      }
     }
    },
    "version_major": 2,
    "version_minor": 0
   }
  }
 },
 "nbformat": 4,
 "nbformat_minor": 5
}
