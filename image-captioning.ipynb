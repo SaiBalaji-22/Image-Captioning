{
 "cells": [
  {
   "cell_type": "code",
   "execution_count": 1,
   "id": "00331dc8",
   "metadata": {
    "execution": {
     "iopub.execute_input": "2022-08-05T22:41:20.237545Z",
     "iopub.status.busy": "2022-08-05T22:41:20.236969Z",
     "iopub.status.idle": "2022-08-05T22:41:25.906653Z",
     "shell.execute_reply": "2022-08-05T22:41:25.905678Z"
    },
    "papermill": {
     "duration": 5.687951,
     "end_time": "2022-08-05T22:41:25.909214",
     "exception": false,
     "start_time": "2022-08-05T22:41:20.221263",
     "status": "completed"
    },
    "tags": []
   },
   "outputs": [],
   "source": [
    "# import modules\n",
    "\n",
    "import os\n",
    "import pickle\n",
    "import numpy as np\n",
    "from tqdm.notebook import tqdm\n",
    "\n",
    "from tensorflow.keras.applications.vgg16 import VGG16, preprocess_input\n",
    "from tensorflow.keras.preprocessing.image import load_img, img_to_array\n",
    "from tensorflow.keras.preprocessing.text import Tokenizer\n",
    "\n",
    "from tensorflow.keras.preprocessing.sequence import pad_sequences\n",
    "from tensorflow.keras.models import Model\n",
    "from tensorflow.keras.utils import to_categorical, plot_model\n",
    "from tensorflow.keras.layers import Dense, LSTM, Dropout, Input, Embedding, add"
   ]
  },
  {
   "cell_type": "code",
   "execution_count": 2,
   "id": "f941b6d1",
   "metadata": {
    "execution": {
     "iopub.execute_input": "2022-08-05T22:41:25.923075Z",
     "iopub.status.busy": "2022-08-05T22:41:25.922570Z",
     "iopub.status.idle": "2022-08-05T22:41:25.928033Z",
     "shell.execute_reply": "2022-08-05T22:41:25.927200Z"
    },
    "papermill": {
     "duration": 0.014679,
     "end_time": "2022-08-05T22:41:25.930306",
     "exception": false,
     "start_time": "2022-08-05T22:41:25.915627",
     "status": "completed"
    },
    "tags": []
   },
   "outputs": [],
   "source": [
    "# setting up directories\n",
    "\n",
    "BASE_DIR = '/kaggle/input/flickr8k'\n",
    "WORKING_DIR = '/kaggle/working'"
   ]
  },
  {
   "cell_type": "code",
   "execution_count": 3,
   "id": "bbeb9cbd",
   "metadata": {
    "execution": {
     "iopub.execute_input": "2022-08-05T22:41:25.944743Z",
     "iopub.status.busy": "2022-08-05T22:41:25.944472Z",
     "iopub.status.idle": "2022-08-05T22:41:33.186676Z",
     "shell.execute_reply": "2022-08-05T22:41:33.185477Z"
    },
    "papermill": {
     "duration": 7.251899,
     "end_time": "2022-08-05T22:41:33.189497",
     "exception": false,
     "start_time": "2022-08-05T22:41:25.937598",
     "status": "completed"
    },
    "tags": []
   },
   "outputs": [
    {
     "name": "stderr",
     "output_type": "stream",
     "text": [
      "2022-08-05 22:41:26.198710: I tensorflow/stream_executor/cuda/cuda_gpu_executor.cc:937] successful NUMA node read from SysFS had negative value (-1), but there must be at least one NUMA node, so returning NUMA node zero\n",
      "2022-08-05 22:41:26.322257: I tensorflow/stream_executor/cuda/cuda_gpu_executor.cc:937] successful NUMA node read from SysFS had negative value (-1), but there must be at least one NUMA node, so returning NUMA node zero\n",
      "2022-08-05 22:41:26.323059: I tensorflow/stream_executor/cuda/cuda_gpu_executor.cc:937] successful NUMA node read from SysFS had negative value (-1), but there must be at least one NUMA node, so returning NUMA node zero\n",
      "2022-08-05 22:41:26.324313: I tensorflow/core/platform/cpu_feature_guard.cc:142] This TensorFlow binary is optimized with oneAPI Deep Neural Network Library (oneDNN) to use the following CPU instructions in performance-critical operations:  AVX2 AVX512F FMA\n",
      "To enable them in other operations, rebuild TensorFlow with the appropriate compiler flags.\n",
      "2022-08-05 22:41:26.329860: I tensorflow/stream_executor/cuda/cuda_gpu_executor.cc:937] successful NUMA node read from SysFS had negative value (-1), but there must be at least one NUMA node, so returning NUMA node zero\n",
      "2022-08-05 22:41:26.330716: I tensorflow/stream_executor/cuda/cuda_gpu_executor.cc:937] successful NUMA node read from SysFS had negative value (-1), but there must be at least one NUMA node, so returning NUMA node zero\n",
      "2022-08-05 22:41:26.331513: I tensorflow/stream_executor/cuda/cuda_gpu_executor.cc:937] successful NUMA node read from SysFS had negative value (-1), but there must be at least one NUMA node, so returning NUMA node zero\n",
      "2022-08-05 22:41:28.659922: I tensorflow/stream_executor/cuda/cuda_gpu_executor.cc:937] successful NUMA node read from SysFS had negative value (-1), but there must be at least one NUMA node, so returning NUMA node zero\n",
      "2022-08-05 22:41:28.660709: I tensorflow/stream_executor/cuda/cuda_gpu_executor.cc:937] successful NUMA node read from SysFS had negative value (-1), but there must be at least one NUMA node, so returning NUMA node zero\n",
      "2022-08-05 22:41:28.661472: I tensorflow/stream_executor/cuda/cuda_gpu_executor.cc:937] successful NUMA node read from SysFS had negative value (-1), but there must be at least one NUMA node, so returning NUMA node zero\n",
      "2022-08-05 22:41:28.662084: I tensorflow/core/common_runtime/gpu/gpu_device.cc:1510] Created device /job:localhost/replica:0/task:0/device:GPU:0 with 15403 MB memory:  -> device: 0, name: Tesla P100-PCIE-16GB, pci bus id: 0000:00:04.0, compute capability: 6.0\n"
     ]
    },
    {
     "name": "stdout",
     "output_type": "stream",
     "text": [
      "Downloading data from https://storage.googleapis.com/tensorflow/keras-applications/vgg16/vgg16_weights_tf_dim_ordering_tf_kernels.h5\n",
      "553467904/553467096 [==============================] - 3s 0us/step\n",
      "553476096/553467096 [==============================] - 3s 0us/step\n",
      "Model: \"model\"\n",
      "_________________________________________________________________\n",
      "Layer (type)                 Output Shape              Param #   \n",
      "=================================================================\n",
      "input_1 (InputLayer)         [(None, 224, 224, 3)]     0         \n",
      "_________________________________________________________________\n",
      "block1_conv1 (Conv2D)        (None, 224, 224, 64)      1792      \n",
      "_________________________________________________________________\n",
      "block1_conv2 (Conv2D)        (None, 224, 224, 64)      36928     \n",
      "_________________________________________________________________\n",
      "block1_pool (MaxPooling2D)   (None, 112, 112, 64)      0         \n",
      "_________________________________________________________________\n",
      "block2_conv1 (Conv2D)        (None, 112, 112, 128)     73856     \n",
      "_________________________________________________________________\n",
      "block2_conv2 (Conv2D)        (None, 112, 112, 128)     147584    \n",
      "_________________________________________________________________\n",
      "block2_pool (MaxPooling2D)   (None, 56, 56, 128)       0         \n",
      "_________________________________________________________________\n",
      "block3_conv1 (Conv2D)        (None, 56, 56, 256)       295168    \n",
      "_________________________________________________________________\n",
      "block3_conv2 (Conv2D)        (None, 56, 56, 256)       590080    \n",
      "_________________________________________________________________\n",
      "block3_conv3 (Conv2D)        (None, 56, 56, 256)       590080    \n",
      "_________________________________________________________________\n",
      "block3_pool (MaxPooling2D)   (None, 28, 28, 256)       0         \n",
      "_________________________________________________________________\n",
      "block4_conv1 (Conv2D)        (None, 28, 28, 512)       1180160   \n",
      "_________________________________________________________________\n",
      "block4_conv2 (Conv2D)        (None, 28, 28, 512)       2359808   \n",
      "_________________________________________________________________\n",
      "block4_conv3 (Conv2D)        (None, 28, 28, 512)       2359808   \n",
      "_________________________________________________________________\n",
      "block4_pool (MaxPooling2D)   (None, 14, 14, 512)       0         \n",
      "_________________________________________________________________\n",
      "block5_conv1 (Conv2D)        (None, 14, 14, 512)       2359808   \n",
      "_________________________________________________________________\n",
      "block5_conv2 (Conv2D)        (None, 14, 14, 512)       2359808   \n",
      "_________________________________________________________________\n",
      "block5_conv3 (Conv2D)        (None, 14, 14, 512)       2359808   \n",
      "_________________________________________________________________\n",
      "block5_pool (MaxPooling2D)   (None, 7, 7, 512)         0         \n",
      "_________________________________________________________________\n",
      "flatten (Flatten)            (None, 25088)             0         \n",
      "_________________________________________________________________\n",
      "fc1 (Dense)                  (None, 4096)              102764544 \n",
      "_________________________________________________________________\n",
      "fc2 (Dense)                  (None, 4096)              16781312  \n",
      "=================================================================\n",
      "Total params: 134,260,544\n",
      "Trainable params: 134,260,544\n",
      "Non-trainable params: 0\n",
      "_________________________________________________________________\n"
     ]
    }
   ],
   "source": [
    "# Launching the model\n",
    "model = VGG16()\n",
    "# modifying the model\n",
    "model = Model(inputs = model.inputs, outputs = model.layers[-2].output) #removing FCN layers of the architecture\n",
    "# summarizing the model\n",
    "model.summary()"
   ]
  },
  {
   "cell_type": "code",
   "execution_count": 4,
   "id": "bbb53e6b",
   "metadata": {
    "execution": {
     "iopub.execute_input": "2022-08-05T22:41:33.238764Z",
     "iopub.status.busy": "2022-08-05T22:41:33.238397Z",
     "iopub.status.idle": "2022-08-05T22:41:33.245077Z",
     "shell.execute_reply": "2022-08-05T22:41:33.243844Z"
    },
    "papermill": {
     "duration": 0.024994,
     "end_time": "2022-08-05T22:41:33.248110",
     "exception": false,
     "start_time": "2022-08-05T22:41:33.223116",
     "status": "completed"
    },
    "tags": []
   },
   "outputs": [],
   "source": [
    "features = {}"
   ]
  },
  {
   "cell_type": "code",
   "execution_count": 5,
   "id": "c6f6c22f",
   "metadata": {
    "execution": {
     "iopub.execute_input": "2022-08-05T22:41:33.288311Z",
     "iopub.status.busy": "2022-08-05T22:41:33.287886Z",
     "iopub.status.idle": "2022-08-05T22:49:30.722732Z",
     "shell.execute_reply": "2022-08-05T22:49:30.721844Z"
    },
    "papermill": {
     "duration": 477.457879,
     "end_time": "2022-08-05T22:49:30.724872",
     "exception": false,
     "start_time": "2022-08-05T22:41:33.266993",
     "status": "completed"
    },
    "tags": []
   },
   "outputs": [
    {
     "data": {
      "application/vnd.jupyter.widget-view+json": {
       "model_id": "75610ae492a44190a456b260de34af15",
       "version_major": 2,
       "version_minor": 0
      },
      "text/plain": [
       "  0%|          | 0/8091 [00:00<?, ?it/s]"
      ]
     },
     "metadata": {},
     "output_type": "display_data"
    },
    {
     "name": "stderr",
     "output_type": "stream",
     "text": [
      "2022-08-05 22:41:33.866975: I tensorflow/compiler/mlir/mlir_graph_optimization_pass.cc:185] None of the MLIR Optimization Passes are enabled (registered 2)\n",
      "2022-08-05 22:41:34.941941: I tensorflow/stream_executor/cuda/cuda_dnn.cc:369] Loaded cuDNN version 8005\n"
     ]
    }
   ],
   "source": [
    "# image feature extraction\n",
    "directory = os.path.join(BASE_DIR, 'Images') \n",
    "for img_name in tqdm(os.listdir(directory)):\n",
    "    # loading a image\n",
    "    img_path = directory + '/' + img_name\n",
    "    image = load_img(img_path, target_size = (224, 224))\n",
    "    image = img_to_array(image)\n",
    "    image = image.reshape((1, image.shape[0], image.shape[1], image.shape[2]))\n",
    "    image = preprocess_input(image)\n",
    "    feature = model.predict(image, verbose = 0)\n",
    "    img_id = img_name.split('.')[0]\n",
    "    features[img_id] = feature"
   ]
  },
  {
   "cell_type": "code",
   "execution_count": 6,
   "id": "a1f533ba",
   "metadata": {
    "execution": {
     "iopub.execute_input": "2022-08-05T22:49:30.745418Z",
     "iopub.status.busy": "2022-08-05T22:49:30.744535Z",
     "iopub.status.idle": "2022-08-05T22:49:31.077492Z",
     "shell.execute_reply": "2022-08-05T22:49:31.076475Z"
    },
    "papermill": {
     "duration": 0.345373,
     "end_time": "2022-08-05T22:49:31.079892",
     "exception": false,
     "start_time": "2022-08-05T22:49:30.734519",
     "status": "completed"
    },
    "tags": []
   },
   "outputs": [],
   "source": [
    "# Storing extracted features in pickle\n",
    "pickle.dump(features, open(os.path.join(WORKING_DIR, 'features.pkl'), 'wb'))"
   ]
  },
  {
   "cell_type": "code",
   "execution_count": 7,
   "id": "6d408e9b",
   "metadata": {
    "execution": {
     "iopub.execute_input": "2022-08-05T22:49:31.099715Z",
     "iopub.status.busy": "2022-08-05T22:49:31.099396Z",
     "iopub.status.idle": "2022-08-05T22:49:31.234702Z",
     "shell.execute_reply": "2022-08-05T22:49:31.233492Z"
    },
    "papermill": {
     "duration": 0.147801,
     "end_time": "2022-08-05T22:49:31.236986",
     "exception": false,
     "start_time": "2022-08-05T22:49:31.089185",
     "status": "completed"
    },
    "tags": []
   },
   "outputs": [],
   "source": [
    "# loading data from pickle\n",
    "with open(os.path.join(WORKING_DIR, 'features.pkl'), 'rb') as f:\n",
    "    features = pickle.load(f)"
   ]
  },
  {
   "cell_type": "code",
   "execution_count": 8,
   "id": "bf06579b",
   "metadata": {
    "execution": {
     "iopub.execute_input": "2022-08-05T22:49:31.257854Z",
     "iopub.status.busy": "2022-08-05T22:49:31.257262Z",
     "iopub.status.idle": "2022-08-05T22:49:31.304708Z",
     "shell.execute_reply": "2022-08-05T22:49:31.303823Z"
    },
    "papermill": {
     "duration": 0.059869,
     "end_time": "2022-08-05T22:49:31.306714",
     "exception": false,
     "start_time": "2022-08-05T22:49:31.246845",
     "status": "completed"
    },
    "tags": []
   },
   "outputs": [],
   "source": [
    "#loading captions file\n",
    "\n",
    "with open(os.path.join(BASE_DIR, 'captions.txt'), 'r') as f:\n",
    "    next(f)\n",
    "    captions_file = f.read()"
   ]
  },
  {
   "cell_type": "code",
   "execution_count": 9,
   "id": "c29b4e94",
   "metadata": {
    "execution": {
     "iopub.execute_input": "2022-08-05T22:49:31.326766Z",
     "iopub.status.busy": "2022-08-05T22:49:31.326483Z",
     "iopub.status.idle": "2022-08-05T22:49:31.496322Z",
     "shell.execute_reply": "2022-08-05T22:49:31.495311Z"
    },
    "papermill": {
     "duration": 0.184083,
     "end_time": "2022-08-05T22:49:31.500390",
     "exception": false,
     "start_time": "2022-08-05T22:49:31.316307",
     "status": "completed"
    },
    "tags": []
   },
   "outputs": [
    {
     "data": {
      "application/vnd.jupyter.widget-view+json": {
       "model_id": "f4abec9b06a140269bf8e44e13668234",
       "version_major": 2,
       "version_minor": 0
      },
      "text/plain": [
       "  0%|          | 0/40456 [00:00<?, ?it/s]"
      ]
     },
     "metadata": {},
     "output_type": "display_data"
    }
   ],
   "source": [
    "#image captions mapping\n",
    "captions_mapping = {}\n",
    "\n",
    "for L in tqdm(captions_file.split('\\n')):\n",
    "    #splitting the image name and captions.\n",
    "    idcap = L.split(',')\n",
    "    if(len(L) < 2):\n",
    "        continue\n",
    "    image_id, caption = idcap[0], idcap[1]\n",
    "    #removing image id \n",
    "    image_id = image_id.split('.')[0]\n",
    "    \n",
    "    caption = ''.join(caption)\n",
    "    \n",
    "    if image_id not in captions_mapping:\n",
    "        captions_mapping[image_id] = []\n",
    "    captions_mapping[image_id].append(caption)"
   ]
  },
  {
   "cell_type": "code",
   "execution_count": 10,
   "id": "578e3129",
   "metadata": {
    "execution": {
     "iopub.execute_input": "2022-08-05T22:49:31.521991Z",
     "iopub.status.busy": "2022-08-05T22:49:31.520191Z",
     "iopub.status.idle": "2022-08-05T22:49:31.527112Z",
     "shell.execute_reply": "2022-08-05T22:49:31.525840Z"
    },
    "papermill": {
     "duration": 0.019725,
     "end_time": "2022-08-05T22:49:31.529920",
     "exception": false,
     "start_time": "2022-08-05T22:49:31.510195",
     "status": "completed"
    },
    "tags": []
   },
   "outputs": [
    {
     "name": "stdout",
     "output_type": "stream",
     "text": [
      "8091 8091\n"
     ]
    }
   ],
   "source": [
    "print(len(captions_mapping), len(features))"
   ]
  },
  {
   "cell_type": "code",
   "execution_count": 11,
   "id": "205644dc",
   "metadata": {
    "execution": {
     "iopub.execute_input": "2022-08-05T22:49:31.550442Z",
     "iopub.status.busy": "2022-08-05T22:49:31.550013Z",
     "iopub.status.idle": "2022-08-05T22:49:31.556751Z",
     "shell.execute_reply": "2022-08-05T22:49:31.555729Z"
    },
    "papermill": {
     "duration": 0.019094,
     "end_time": "2022-08-05T22:49:31.558773",
     "exception": false,
     "start_time": "2022-08-05T22:49:31.539679",
     "status": "completed"
    },
    "tags": []
   },
   "outputs": [],
   "source": [
    "# Preprocessing the captions data\n",
    "def clean(captions_mapping):\n",
    "    for key, captions in captions_mapping.items():\n",
    "        for i in range(len(captions)):\n",
    "            # Taking one caption at a time\n",
    "            caption = captions[i]\n",
    "            # Convert to lower case\n",
    "            caption = caption.lower()\n",
    "            # Delete digits, special characters etc...\n",
    "            caption = caption.replace('[^A-Za-z]', '')\n",
    "            # Delete additional spaces\n",
    "            caption = caption.replace('\\s+', ' ')\n",
    "            # Adding start and end tags to the caption\n",
    "#             caption = '<start> ' + ' '.join([word for word in caption.split() if len(word) > 1]) + ' <end>'\n",
    "            caption = ' '.join([word for word in caption.split() if len(word) > 1])\n",
    "            captions[i] = caption"
   ]
  },
  {
   "cell_type": "code",
   "execution_count": 12,
   "id": "a39ec608",
   "metadata": {
    "execution": {
     "iopub.execute_input": "2022-08-05T22:49:31.578098Z",
     "iopub.status.busy": "2022-08-05T22:49:31.577822Z",
     "iopub.status.idle": "2022-08-05T22:49:31.585121Z",
     "shell.execute_reply": "2022-08-05T22:49:31.583971Z"
    },
    "papermill": {
     "duration": 0.019134,
     "end_time": "2022-08-05T22:49:31.586957",
     "exception": false,
     "start_time": "2022-08-05T22:49:31.567823",
     "status": "completed"
    },
    "tags": []
   },
   "outputs": [
    {
     "data": {
      "text/plain": [
       "['A child in a pink dress is climbing up a set of stairs in an entry way .',\n",
       " 'A girl going into a wooden building .',\n",
       " 'A little girl climbing into a wooden playhouse .',\n",
       " 'A little girl climbing the stairs to her playhouse .',\n",
       " 'A little girl in a pink dress going into a wooden cabin .']"
      ]
     },
     "execution_count": 12,
     "metadata": {},
     "output_type": "execute_result"
    }
   ],
   "source": [
    "# Before preprocessing the captions\n",
    "captions_mapping['1000268201_693b08cb0e']"
   ]
  },
  {
   "cell_type": "code",
   "execution_count": 13,
   "id": "7b0ce927",
   "metadata": {
    "execution": {
     "iopub.execute_input": "2022-08-05T22:49:31.608566Z",
     "iopub.status.busy": "2022-08-05T22:49:31.607194Z",
     "iopub.status.idle": "2022-08-05T22:49:31.731684Z",
     "shell.execute_reply": "2022-08-05T22:49:31.730755Z"
    },
    "papermill": {
     "duration": 0.137261,
     "end_time": "2022-08-05T22:49:31.733764",
     "exception": false,
     "start_time": "2022-08-05T22:49:31.596503",
     "status": "completed"
    },
    "tags": []
   },
   "outputs": [
    {
     "data": {
      "text/plain": [
       "['child in pink dress is climbing up set of stairs in an entry way',\n",
       " 'girl going into wooden building',\n",
       " 'little girl climbing into wooden playhouse',\n",
       " 'little girl climbing the stairs to her playhouse',\n",
       " 'little girl in pink dress going into wooden cabin']"
      ]
     },
     "execution_count": 13,
     "metadata": {},
     "output_type": "execute_result"
    }
   ],
   "source": [
    "# After preprocessing the captions\n",
    "clean(captions_mapping)\n",
    "captions_mapping['1000268201_693b08cb0e']"
   ]
  },
  {
   "cell_type": "code",
   "execution_count": 14,
   "id": "19db0b14",
   "metadata": {
    "execution": {
     "iopub.execute_input": "2022-08-05T22:49:31.755036Z",
     "iopub.status.busy": "2022-08-05T22:49:31.753671Z",
     "iopub.status.idle": "2022-08-05T22:49:31.768882Z",
     "shell.execute_reply": "2022-08-05T22:49:31.768030Z"
    },
    "papermill": {
     "duration": 0.027812,
     "end_time": "2022-08-05T22:49:31.771229",
     "exception": false,
     "start_time": "2022-08-05T22:49:31.743417",
     "status": "completed"
    },
    "tags": []
   },
   "outputs": [],
   "source": [
    "# Gathering all the captions into a single list\n",
    "all_captions = []\n",
    "for key in captions_mapping:\n",
    "    for caption in captions_mapping[key]:\n",
    "        all_captions.append(caption)"
   ]
  },
  {
   "cell_type": "code",
   "execution_count": 15,
   "id": "493520d7",
   "metadata": {
    "execution": {
     "iopub.execute_input": "2022-08-05T22:49:31.790971Z",
     "iopub.status.busy": "2022-08-05T22:49:31.790633Z",
     "iopub.status.idle": "2022-08-05T22:49:31.796294Z",
     "shell.execute_reply": "2022-08-05T22:49:31.795400Z"
    },
    "papermill": {
     "duration": 0.017869,
     "end_time": "2022-08-05T22:49:31.798384",
     "exception": false,
     "start_time": "2022-08-05T22:49:31.780515",
     "status": "completed"
    },
    "tags": []
   },
   "outputs": [
    {
     "data": {
      "text/plain": [
       "40455"
      ]
     },
     "execution_count": 15,
     "metadata": {},
     "output_type": "execute_result"
    }
   ],
   "source": [
    "len(all_captions)"
   ]
  },
  {
   "cell_type": "code",
   "execution_count": 16,
   "id": "088f99d6",
   "metadata": {
    "execution": {
     "iopub.execute_input": "2022-08-05T22:49:31.820047Z",
     "iopub.status.busy": "2022-08-05T22:49:31.819739Z",
     "iopub.status.idle": "2022-08-05T22:49:32.394210Z",
     "shell.execute_reply": "2022-08-05T22:49:32.393017Z"
    },
    "papermill": {
     "duration": 0.589095,
     "end_time": "2022-08-05T22:49:32.397023",
     "exception": false,
     "start_time": "2022-08-05T22:49:31.807928",
     "status": "completed"
    },
    "tags": []
   },
   "outputs": [],
   "source": [
    "# Counts total no.of words in a array of strings excluding some special characters like punctuation marks\n",
    "tokenizer = Tokenizer()\n",
    "tokenizer.fit_on_texts(all_captions)\n",
    "vocab_size = len(tokenizer.word_index) + 1"
   ]
  },
  {
   "cell_type": "code",
   "execution_count": 17,
   "id": "e0f593b8",
   "metadata": {
    "execution": {
     "iopub.execute_input": "2022-08-05T22:49:32.419064Z",
     "iopub.status.busy": "2022-08-05T22:49:32.418732Z",
     "iopub.status.idle": "2022-08-05T22:49:32.425303Z",
     "shell.execute_reply": "2022-08-05T22:49:32.424206Z"
    },
    "papermill": {
     "duration": 0.020222,
     "end_time": "2022-08-05T22:49:32.428152",
     "exception": false,
     "start_time": "2022-08-05T22:49:32.407930",
     "status": "completed"
    },
    "tags": []
   },
   "outputs": [
    {
     "data": {
      "text/plain": [
       "8311"
      ]
     },
     "execution_count": 17,
     "metadata": {},
     "output_type": "execute_result"
    }
   ],
   "source": [
    "vocab_size"
   ]
  },
  {
   "cell_type": "code",
   "execution_count": 18,
   "id": "5706424e",
   "metadata": {
    "execution": {
     "iopub.execute_input": "2022-08-05T22:49:32.449880Z",
     "iopub.status.busy": "2022-08-05T22:49:32.449248Z",
     "iopub.status.idle": "2022-08-05T22:49:32.483268Z",
     "shell.execute_reply": "2022-08-05T22:49:32.482270Z"
    },
    "papermill": {
     "duration": 0.047321,
     "end_time": "2022-08-05T22:49:32.485646",
     "exception": false,
     "start_time": "2022-08-05T22:49:32.438325",
     "status": "completed"
    },
    "tags": []
   },
   "outputs": [
    {
     "data": {
      "text/plain": [
       "29"
      ]
     },
     "execution_count": 18,
     "metadata": {},
     "output_type": "execute_result"
    }
   ],
   "source": [
    "# Get the maximum length of the caption\n",
    "max_length = max([len(caption.split()) for caption in all_captions])\n",
    "max_length"
   ]
  },
  {
   "cell_type": "code",
   "execution_count": 19,
   "id": "65401b16",
   "metadata": {
    "execution": {
     "iopub.execute_input": "2022-08-05T22:49:32.509205Z",
     "iopub.status.busy": "2022-08-05T22:49:32.508876Z",
     "iopub.status.idle": "2022-08-05T22:49:32.515237Z",
     "shell.execute_reply": "2022-08-05T22:49:32.514199Z"
    },
    "papermill": {
     "duration": 0.019941,
     "end_time": "2022-08-05T22:49:32.517439",
     "exception": false,
     "start_time": "2022-08-05T22:49:32.497498",
     "status": "completed"
    },
    "tags": []
   },
   "outputs": [],
   "source": [
    "# Splitting the tarin and test data\n",
    "img_ids = list(captions_mapping.keys())\n",
    "split = int(len(img_ids)*0.9)\n",
    "train_data = img_ids[:split]\n",
    "test_data = img_ids[split:]"
   ]
  },
  {
   "cell_type": "code",
   "execution_count": 20,
   "id": "dd2bbe9f",
   "metadata": {
    "execution": {
     "iopub.execute_input": "2022-08-05T22:49:32.538268Z",
     "iopub.status.busy": "2022-08-05T22:49:32.537480Z",
     "iopub.status.idle": "2022-08-05T22:49:32.543652Z",
     "shell.execute_reply": "2022-08-05T22:49:32.542101Z"
    },
    "papermill": {
     "duration": 0.018577,
     "end_time": "2022-08-05T22:49:32.545635",
     "exception": false,
     "start_time": "2022-08-05T22:49:32.527058",
     "status": "completed"
    },
    "tags": []
   },
   "outputs": [
    {
     "name": "stdout",
     "output_type": "stream",
     "text": [
      "7281 810\n",
      "1234817607_924893f6e1\n"
     ]
    }
   ],
   "source": [
    "print(len(train_data), len(test_data))\n",
    "print(train_data[189])"
   ]
  },
  {
   "cell_type": "code",
   "execution_count": 21,
   "id": "bd0521cd",
   "metadata": {
    "execution": {
     "iopub.execute_input": "2022-08-05T22:49:32.566364Z",
     "iopub.status.busy": "2022-08-05T22:49:32.565568Z",
     "iopub.status.idle": "2022-08-05T22:49:32.574649Z",
     "shell.execute_reply": "2022-08-05T22:49:32.573813Z"
    },
    "papermill": {
     "duration": 0.02143,
     "end_time": "2022-08-05T22:49:32.576575",
     "exception": false,
     "start_time": "2022-08-05T22:49:32.555145",
     "status": "completed"
    },
    "tags": []
   },
   "outputs": [],
   "source": [
    "# create data generator to get data in batch (avoids session crash)\n",
    "def data_generator(data_keys, mapping, features, tokenizer, max_length, vocab_size, batch_size):\n",
    "    # loop over images\n",
    "    X1, X2, y = list(), list(), list()\n",
    "    n = 0\n",
    "    while 1:\n",
    "        for key in data_keys:\n",
    "            n += 1\n",
    "            captions = mapping[key]\n",
    "            # process each caption\n",
    "            for caption in captions:\n",
    "                # encode the sequence\n",
    "                seq = tokenizer.texts_to_sequences([caption])[0]\n",
    "                # split the sequence into X, y pairs\n",
    "                for i in range(1, len(seq)):\n",
    "                    # split into input and output pairs\n",
    "                    in_seq, out_seq = seq[:i], seq[i]\n",
    "                    # pad input sequence\n",
    "                    in_seq = pad_sequences([in_seq], maxlen=max_length)[0]\n",
    "                    # encode output sequence\n",
    "                    out_seq = to_categorical([out_seq], num_classes=vocab_size)[0]\n",
    "                    \n",
    "                    # store the sequences\n",
    "                    X1.append(features[key][0])\n",
    "                    X2.append(in_seq)\n",
    "                    y.append(out_seq)\n",
    "            if n == batch_size:\n",
    "                X1, X2, y = np.array(X1), np.array(X2), np.array(y)\n",
    "                yield [X1, X2], y\n",
    "                X1, X2, y = list(), list(), list()\n",
    "                n = 0"
   ]
  },
  {
   "cell_type": "code",
   "execution_count": 22,
   "id": "7a77afc4",
   "metadata": {
    "execution": {
     "iopub.execute_input": "2022-08-05T22:49:32.597079Z",
     "iopub.status.busy": "2022-08-05T22:49:32.596536Z",
     "iopub.status.idle": "2022-08-05T22:49:34.371834Z",
     "shell.execute_reply": "2022-08-05T22:49:34.370698Z"
    },
    "papermill": {
     "duration": 1.788151,
     "end_time": "2022-08-05T22:49:34.374275",
     "exception": false,
     "start_time": "2022-08-05T22:49:32.586124",
     "status": "completed"
    },
    "tags": []
   },
   "outputs": [
    {
     "data": {
      "image/png": "[encoded data removed]",
      "text/plain": [
       "<IPython.core.display.Image object>"
      ]
     },
     "execution_count": 22,
     "metadata": {},
     "output_type": "execute_result"
    }
   ],
   "source": [
    "# encoder model\n",
    "# image feature layers\n",
    "inputs1 = Input(shape=(4096,))\n",
    "fe1 = Dropout(0.4)(inputs1)\n",
    "fe2 = Dense(256, activation='relu')(fe1)\n",
    "# sequence feature layers\n",
    "inputs2 = Input(shape=(max_length,))\n",
    "se1 = Embedding(vocab_size, 256, mask_zero=True)(inputs2)\n",
    "se2 = Dropout(0.4)(se1)\n",
    "se3 = LSTM(256)(se2)\n",
    "\n",
    "# decoder model\n",
    "decoder1 = add([fe2, se3])\n",
    "decoder2 = Dense(256, activation='relu')(decoder1)\n",
    "outputs = Dense(vocab_size, activation='softmax')(decoder2)\n",
    "\n",
    "model = Model(inputs=[inputs1, inputs2], outputs=outputs)\n",
    "model.compile(loss='categorical_crossentropy', optimizer='adam')\n",
    "\n",
    "# plot the model\n",
    "plot_model(model, show_shapes=True)"
   ]
  },
  {
   "cell_type": "code",
   "execution_count": 23,
   "id": "a00059ae",
   "metadata": {
    "execution": {
     "iopub.execute_input": "2022-08-05T22:49:34.398928Z",
     "iopub.status.busy": "2022-08-05T22:49:34.397788Z",
     "iopub.status.idle": "2022-08-05T23:12:28.700503Z",
     "shell.execute_reply": "2022-08-05T23:12:28.699403Z"
    },
    "papermill": {
     "duration": 1374.317724,
     "end_time": "2022-08-05T23:12:28.703376",
     "exception": false,
     "start_time": "2022-08-05T22:49:34.385652",
     "status": "completed"
    },
    "tags": []
   },
   "outputs": [
    {
     "name": "stdout",
     "output_type": "stream",
     "text": [
      "227/227 [==============================] - 49s 201ms/step - loss: 5.6475\n",
      "227/227 [==============================] - 50s 218ms/step - loss: 4.3269\n",
      "227/227 [==============================] - 49s 214ms/step - loss: 3.8027\n",
      "227/227 [==============================] - 49s 214ms/step - loss: 3.4880\n",
      "227/227 [==============================] - 46s 204ms/step - loss: 3.2549\n",
      "227/227 [==============================] - 48s 210ms/step - loss: 3.0773\n",
      "227/227 [==============================] - 49s 216ms/step - loss: 2.9451\n",
      "227/227 [==============================] - 49s 217ms/step - loss: 2.8301\n",
      "227/227 [==============================] - 47s 206ms/step - loss: 2.7394\n",
      "227/227 [==============================] - 49s 214ms/step - loss: 2.6546\n",
      "227/227 [==============================] - 47s 207ms/step - loss: 2.5801\n",
      "227/227 [==============================] - 49s 215ms/step - loss: 2.5110\n",
      "227/227 [==============================] - 49s 214ms/step - loss: 2.4501\n",
      "227/227 [==============================] - 48s 211ms/step - loss: 2.3948\n",
      "227/227 [==============================] - 49s 214ms/step - loss: 2.3439\n",
      "227/227 [==============================] - 48s 210ms/step - loss: 2.2980\n",
      "227/227 [==============================] - 49s 215ms/step - loss: 2.2580\n",
      "227/227 [==============================] - 48s 210ms/step - loss: 2.2178\n",
      "227/227 [==============================] - 49s 217ms/step - loss: 2.1793\n",
      "227/227 [==============================] - 47s 207ms/step - loss: 2.1451\n"
     ]
    }
   ],
   "source": [
    "# train the model\n",
    "epochs = 20\n",
    "batch_size = 32\n",
    "steps = len(train_data) // batch_size\n",
    "\n",
    "for i in range(epochs):\n",
    "    # create data generator\n",
    "    generator = data_generator(train_data, captions_mapping, features, tokenizer, max_length, vocab_size, batch_size)\n",
    "    # fit for one epoch\n",
    "    model.fit(generator, epochs=1, steps_per_epoch=steps, verbose=1)"
   ]
  },
  {
   "cell_type": "code",
   "execution_count": 24,
   "id": "8f37185c",
   "metadata": {
    "execution": {
     "iopub.execute_input": "2022-08-05T23:12:29.190953Z",
     "iopub.status.busy": "2022-08-05T23:12:29.190578Z",
     "iopub.status.idle": "2022-08-05T23:12:29.317929Z",
     "shell.execute_reply": "2022-08-05T23:12:29.316865Z"
    },
    "papermill": {
     "duration": 0.373718,
     "end_time": "2022-08-05T23:12:29.321085",
     "exception": false,
     "start_time": "2022-08-05T23:12:28.947367",
     "status": "completed"
    },
    "tags": []
   },
   "outputs": [
    {
     "name": "stderr",
     "output_type": "stream",
     "text": [
      "/opt/conda/lib/python3.7/site-packages/keras/utils/generic_utils.py:497: CustomMaskWarning: Custom mask layers require a config and must override get_config. When loading, the custom mask layer must be passed to the custom_objects argument.\n",
      "  category=CustomMaskWarning)\n"
     ]
    }
   ],
   "source": [
    "# save the model\n",
    "model.save(WORKING_DIR+'/best_model.h5')"
   ]
  },
  {
   "cell_type": "code",
   "execution_count": 25,
   "id": "1afb976f",
   "metadata": {
    "execution": {
     "iopub.execute_input": "2022-08-05T23:12:29.840608Z",
     "iopub.status.busy": "2022-08-05T23:12:29.839608Z",
     "iopub.status.idle": "2022-08-05T23:12:29.845787Z",
     "shell.execute_reply": "2022-08-05T23:12:29.844673Z"
    },
    "papermill": {
     "duration": 0.286052,
     "end_time": "2022-08-05T23:12:29.847963",
     "exception": false,
     "start_time": "2022-08-05T23:12:29.561911",
     "status": "completed"
    },
    "tags": []
   },
   "outputs": [],
   "source": [
    "def idx_to_word(integer, tokenizer):\n",
    "    for word, index in tokenizer.word_index.items():\n",
    "        if index == integer:\n",
    "            return word\n",
    "    return None"
   ]
  },
  {
   "cell_type": "code",
   "execution_count": 26,
   "id": "813c10ca",
   "metadata": {
    "execution": {
     "iopub.execute_input": "2022-08-05T23:12:30.581780Z",
     "iopub.status.busy": "2022-08-05T23:12:30.581332Z",
     "iopub.status.idle": "2022-08-05T23:12:30.591875Z",
     "shell.execute_reply": "2022-08-05T23:12:30.590992Z"
    },
    "papermill": {
     "duration": 0.463614,
     "end_time": "2022-08-05T23:12:30.594401",
     "exception": false,
     "start_time": "2022-08-05T23:12:30.130787",
     "status": "completed"
    },
    "tags": []
   },
   "outputs": [],
   "source": [
    "# generate caption for an image\n",
    "def predict_caption(model, image, tokenizer, max_length):\n",
    "    # add start tag for generation process\n",
    "    in_text = 'startseq'\n",
    "    # iterate over the max length of sequence\n",
    "    for i in range(max_length):\n",
    "        # encode input sequence\n",
    "        sequence = tokenizer.texts_to_sequences([in_text])[0]\n",
    "        # pad the sequence\n",
    "        sequence = pad_sequences([sequence], max_length)\n",
    "        # predict next word\n",
    "        yhat = model.predict([image, sequence], verbose=0)\n",
    "        # get index with high probability\n",
    "        yhat = np.argmax(yhat)\n",
    "        # convert index to word\n",
    "        word = idx_to_word(yhat, tokenizer)\n",
    "        # stop if word not found\n",
    "        if word is None:\n",
    "            break\n",
    "        # append word as input for generating next word\n",
    "        in_text += \" \" + word\n",
    "        # stop if we reach end tag\n",
    "        if word == 'endseq':\n",
    "            break\n",
    "      \n",
    "    return in_text"
   ]
  },
  {
   "cell_type": "code",
   "execution_count": 27,
   "id": "a658a81a",
   "metadata": {
    "execution": {
     "iopub.execute_input": "2022-08-05T23:12:31.101450Z",
     "iopub.status.busy": "2022-08-05T23:12:31.100704Z",
     "iopub.status.idle": "2022-08-05T23:29:03.384695Z",
     "shell.execute_reply": "2022-08-05T23:29:03.382756Z"
    },
    "papermill": {
     "duration": 992.530861,
     "end_time": "2022-08-05T23:29:03.386872",
     "exception": false,
     "start_time": "2022-08-05T23:12:30.856011",
     "status": "completed"
    },
    "tags": []
   },
   "outputs": [
    {
     "data": {
      "application/vnd.jupyter.widget-view+json": {
       "model_id": "2c53b3ca4698459398fb1af98ad9e5c7",
       "version_major": 2,
       "version_minor": 0
      },
      "text/plain": [
       "  0%|          | 0/810 [00:00<?, ?it/s]"
      ]
     },
     "metadata": {},
     "output_type": "display_data"
    },
    {
     "name": "stdout",
     "output_type": "stream",
     "text": [
      "BLEU-1: 0.207572\n",
      "BLEU-2: 0.109988\n"
     ]
    }
   ],
   "source": [
    "from nltk.translate.bleu_score import corpus_bleu\n",
    "# validate with test data\n",
    "actual, predicted = list(), list()\n",
    "\n",
    "for key in tqdm(test_data):\n",
    "    # get actual caption\n",
    "    captions = captions_mapping[key]\n",
    "    # predict the caption for image\n",
    "    y_pred = predict_caption(model, features[key], tokenizer, max_length) \n",
    "    # split into words\n",
    "    actual_captions = [caption.split() for caption in captions]\n",
    "    y_pred = y_pred.split()\n",
    "    # append to the list\n",
    "    actual.append(actual_captions)\n",
    "    predicted.append(y_pred)\n",
    "    \n",
    "# calcuate BLEU score\n",
    "print(\"BLEU-1: %f\" % corpus_bleu(actual, predicted, weights=(1.0, 0, 0, 0)))\n",
    "print(\"BLEU-2: %f\" % corpus_bleu(actual, predicted, weights=(0.5, 0.5, 0, 0)))"
   ]
  },
  {
   "cell_type": "code",
   "execution_count": 28,
   "id": "7f74312e",
   "metadata": {
    "execution": {
     "iopub.execute_input": "2022-08-05T23:29:03.875412Z",
     "iopub.status.busy": "2022-08-05T23:29:03.875042Z",
     "iopub.status.idle": "2022-08-05T23:29:03.882115Z",
     "shell.execute_reply": "2022-08-05T23:29:03.880873Z"
    },
    "papermill": {
     "duration": 0.252836,
     "end_time": "2022-08-05T23:29:03.884256",
     "exception": false,
     "start_time": "2022-08-05T23:29:03.631420",
     "status": "completed"
    },
    "tags": []
   },
   "outputs": [],
   "source": [
    "from PIL import Image\n",
    "import matplotlib.pyplot as plt\n",
    "def generate_caption(image_name):\n",
    "    # load the image\n",
    "    # image_name = \"1001773457_577c3a7d70.jpg\"\n",
    "    image_id = image_name.split('.')[0]\n",
    "    img_path = os.path.join(BASE_DIR, \"Images\", image_name)\n",
    "    image = Image.open(img_path)\n",
    "    captions = captions_mapping[image_id]\n",
    "    print('---------------------Actual---------------------')\n",
    "    for caption in captions:\n",
    "        print(caption)\n",
    "    # predict the caption\n",
    "    y_pred = predict_caption(model, features[image_id], tokenizer, max_length)\n",
    "    print('--------------------Predicted--------------------')\n",
    "    print(y_pred)\n",
    "    plt.imshow(image)"
   ]
  },
  {
   "cell_type": "code",
   "execution_count": 29,
   "id": "2853d373",
   "metadata": {
    "execution": {
     "iopub.execute_input": "2022-08-05T23:29:04.368674Z",
     "iopub.status.busy": "2022-08-05T23:29:04.368318Z",
     "iopub.status.idle": "2022-08-05T23:29:05.809689Z",
     "shell.execute_reply": "2022-08-05T23:29:05.808742Z"
    },
    "papermill": {
     "duration": 1.687436,
     "end_time": "2022-08-05T23:29:05.812992",
     "exception": false,
     "start_time": "2022-08-05T23:29:04.125556",
     "status": "completed"
    },
    "tags": []
   },
   "outputs": [
    {
     "name": "stdout",
     "output_type": "stream",
     "text": [
      "---------------------Actual---------------------\n",
      "korean man sells soda\n",
      "man is sitting at an outside bar near many soda and beer cans\n",
      "man wearing glasses with aluminum cans lined up in front of him\n",
      "an elderly man is smiling while sitting in front of row of soda cans\n",
      "vendor selling drinks in stall\n",
      "--------------------Predicted--------------------\n",
      "startseq game of people sitting on table with aluminum cans in the background and man selling soda cans behind him cans in the background and man selling soda and they\n"
     ]
    },
    {
     "data": {
      "image/png": "[encoded data removed]",
      "text/plain": [
       "<Figure size 432x288 with 1 Axes>"
      ]
     },
     "metadata": {
      "needs_background": "light"
     },
     "output_type": "display_data"
    }
   ],
   "source": [
    "generate_caption('1234817607_924893f6e1.jpg')"
   ]
  },
  {
   "cell_type": "code",
   "execution_count": null,
   "id": "08bc1ad3",
   "metadata": {
    "papermill": {
     "duration": 0.244492,
     "end_time": "2022-08-05T23:29:06.350313",
     "exception": false,
     "start_time": "2022-08-05T23:29:06.105821",
     "status": "completed"
    },
    "tags": []
   },
   "outputs": [],
   "source": []
  }
 ],
 "metadata": {
  "kernelspec": {
   "display_name": "Python 3",
   "language": "python",
   "name": "python3"
  },
  "language_info": {
   "codemirror_mode": {
    "name": "ipython",
    "version": 3
   },
   "file_extension": ".py",
   "mimetype": "text/x-python",
   "name": "python",
   "nbconvert_exporter": "python",
   "pygments_lexer": "ipython3",
   "version": "3.7.12"
  },
  "papermill": {
   "default_parameters": {},
   "duration": 2877.824813,
   "end_time": "2022-08-05T23:29:10.395833",
   "environment_variables": {},
   "exception": null,
   "input_path": "__notebook__.ipynb",
   "output_path": "__notebook__.ipynb",
   "parameters": {},
   "start_time": "2022-08-05T22:41:12.571020",
   "version": "2.3.4"
  },
  "widgets": {
   "application/vnd.jupyter.widget-state+json": {
    "state": {
     "022608cbd46c4093b67f424611cd82bd": {
      "model_module": "@jupyter-widgets/controls",
      "model_module_version": "1.5.0",
      "model_name": "FloatProgressModel",
      "state": {
       "_dom_classes": [],
       "_model_module": "@jupyter-widgets/controls",
       "_model_module_version": "1.5.0",
       "_model_name": "FloatProgressModel",
       "_view_count": null,
       "_view_module": "@jupyter-widgets/controls",
       "_view_module_version": "1.5.0",
       "_view_name": "ProgressView",
       "bar_style": "success",
       "description": "",
       "description_tooltip": null,
       "layout": "IPY_MODEL_487ad2022c714794bcc5987955d9abbb",
       "max": 810.0,
       "min": 0.0,
       "orientation": "horizontal",
       "style": "IPY_MODEL_4c7e13bba64b4555ae34dcbe15796224",
       "value": 810.0
      }
     },
     "0bd6686cfcd544f6a0527cd085f737dd": {
      "model_module": "@jupyter-widgets/controls",
      "model_module_version": "1.5.0",
      "model_name": "HTMLModel",
      "state": {
       "_dom_classes": [],
       "_model_module": "@jupyter-widgets/controls",
       "_model_module_version": "1.5.0",
       "_model_name": "HTMLModel",
       "_view_count": null,
       "_view_module": "@jupyter-widgets/controls",
       "_view_module_version": "1.5.0",
       "_view_name": "HTMLView",
       "description": "",
       "description_tooltip": null,
       "layout": "IPY_MODEL_33a234ab031a4d1a9193e40327c6e6a7",
       "placeholder": "​",
       "style": "IPY_MODEL_b6fa4f5494d64c35b80e75015f1b84d3",
       "value": "100%"
      }
     },
     "0c8e79ec8a1444928110dd9af26a07fa": {
      "model_module": "@jupyter-widgets/controls",
      "model_module_version": "1.5.0",
      "model_name": "DescriptionStyleModel",
      "state": {
       "_model_module": "@jupyter-widgets/controls",
       "_model_module_version": "1.5.0",
       "_model_name": "DescriptionStyleModel",
       "_view_count": null,
       "_view_module": "@jupyter-widgets/base",
       "_view_module_version": "1.2.0",
       "_view_name": "StyleView",
       "description_width": ""
      }
     },
     "283911709625487ea87a26a3a37e9153": {
      "model_module": "@jupyter-widgets/base",
      "model_module_version": "1.2.0",
      "model_name": "LayoutModel",
      "state": {
       "_model_module": "@jupyter-widgets/base",
       "_model_module_version": "1.2.0",
       "_model_name": "LayoutModel",
       "_view_count": null,
       "_view_module": "@jupyter-widgets/base",
       "_view_module_version": "1.2.0",
       "_view_name": "LayoutView",
       "align_content": null,
       "align_items": null,
       "align_self": null,
       "border": null,
       "bottom": null,
       "display": null,
       "flex": null,
       "flex_flow": null,
       "grid_area": null,
       "grid_auto_columns": null,
       "grid_auto_flow": null,
       "grid_auto_rows": null,
       "grid_column": null,
       "grid_gap": null,
       "grid_row": null,
       "grid_template_areas": null,
       "grid_template_columns": null,
       "grid_template_rows": null,
       "height": null,
       "justify_content": null,
       "justify_items": null,
       "left": null,
       "margin": null,
       "max_height": null,
       "max_width": null,
       "min_height": null,
       "min_width": null,
       "object_fit": null,
       "object_position": null,
       "order": null,
       "overflow": null,
       "overflow_x": null,
       "overflow_y": null,
       "padding": null,
       "right": null,
       "top": null,
       "visibility": null,
       "width": null
      }
     },
     "2c53b3ca4698459398fb1af98ad9e5c7": {
      "model_module": "@jupyter-widgets/controls",
      "model_module_version": "1.5.0",
      "model_name": "HBoxModel",
      "state": {
       "_dom_classes": [],
       "_model_module": "@jupyter-widgets/controls",
       "_model_module_version": "1.5.0",
       "_model_name": "HBoxModel",
       "_view_count": null,
       "_view_module": "@jupyter-widgets/controls",
       "_view_module_version": "1.5.0",
       "_view_name": "HBoxView",
       "box_style": "",
       "children": [
        "IPY_MODEL_ed013549b1354e23b43a8dd59c276f59",
        "IPY_MODEL_022608cbd46c4093b67f424611cd82bd",
        "IPY_MODEL_eceb6a3fa80e48bca494b848df3464a9"
       ],
       "layout": "IPY_MODEL_81d2ce5b25fa4d6d998ba5f7c9ebff2e"
      }
     },
     "33a234ab031a4d1a9193e40327c6e6a7": {
      "model_module": "@jupyter-widgets/base",
      "model_module_version": "1.2.0",
      "model_name": "LayoutModel",
      "state": {
       "_model_module": "@jupyter-widgets/base",
       "_model_module_version": "1.2.0",
       "_model_name": "LayoutModel",
       "_view_count": null,
       "_view_module": "@jupyter-widgets/base",
       "_view_module_version": "1.2.0",
       "_view_name": "LayoutView",
       "align_content": null,
       "align_items": null,
       "align_self": null,
       "border": null,
       "bottom": null,
       "display": null,
       "flex": null,
       "flex_flow": null,
       "grid_area": null,
       "grid_auto_columns": null,
       "grid_auto_flow": null,
       "grid_auto_rows": null,
       "grid_column": null,
       "grid_gap": null,
       "grid_row": null,
       "grid_template_areas": null,
       "grid_template_columns": null,
       "grid_template_rows": null,
       "height": null,
       "justify_content": null,
       "justify_items": null,
       "left": null,
       "margin": null,
       "max_height": null,
       "max_width": null,
       "min_height": null,
       "min_width": null,
       "object_fit": null,
       "object_position": null,
       "order": null,
       "overflow": null,
       "overflow_x": null,
       "overflow_y": null,
       "padding": null,
       "right": null,
       "top": null,
       "visibility": null,
       "width": null
      }
     },
     "406669c45f494067a65b875642bfd8b9": {
      "model_module": "@jupyter-widgets/base",
      "model_module_version": "1.2.0",
      "model_name": "LayoutModel",
      "state": {
       "_model_module": "@jupyter-widgets/base",
       "_model_module_version": "1.2.0",
       "_model_name": "LayoutModel",
       "_view_count": null,
       "_view_module": "@jupyter-widgets/base",
       "_view_module_version": "1.2.0",
       "_view_name": "LayoutView",
       "align_content": null,
       "align_items": null,
       "align_self": null,
       "border": null,
       "bottom": null,
       "display": null,
       "flex": null,
       "flex_flow": null,
       "grid_area": null,
       "grid_auto_columns": null,
       "grid_auto_flow": null,
       "grid_auto_rows": null,
       "grid_column": null,
       "grid_gap": null,
       "grid_row": null,
       "grid_template_areas": null,
       "grid_template_columns": null,
       "grid_template_rows": null,
       "height": null,
       "justify_content": null,
       "justify_items": null,
       "left": null,
       "margin": null,
       "max_height": null,
       "max_width": null,
       "min_height": null,
       "min_width": null,
       "object_fit": null,
       "object_position": null,
       "order": null,
       "overflow": null,
       "overflow_x": null,
       "overflow_y": null,
       "padding": null,
       "right": null,
       "top": null,
       "visibility": null,
       "width": null
      }
     },
     "40c12e03074141039ed3b4d41725c3c5": {
      "model_module": "@jupyter-widgets/base",
      "model_module_version": "1.2.0",
      "model_name": "LayoutModel",
      "state": {
       "_model_module": "@jupyter-widgets/base",
       "_model_module_version": "1.2.0",
       "_model_name": "LayoutModel",
       "_view_count": null,
       "_view_module": "@jupyter-widgets/base",
       "_view_module_version": "1.2.0",
       "_view_name": "LayoutView",
       "align_content": null,
       "align_items": null,
       "align_self": null,
       "border": null,
       "bottom": null,
       "display": null,
       "flex": null,
       "flex_flow": null,
       "grid_area": null,
       "grid_auto_columns": null,
       "grid_auto_flow": null,
       "grid_auto_rows": null,
       "grid_column": null,
       "grid_gap": null,
       "grid_row": null,
       "grid_template_areas": null,
       "grid_template_columns": null,
       "grid_template_rows": null,
       "height": null,
       "justify_content": null,
       "justify_items": null,
       "left": null,
       "margin": null,
       "max_height": null,
       "max_width": null,
       "min_height": null,
       "min_width": null,
       "object_fit": null,
       "object_position": null,
       "order": null,
       "overflow": null,
       "overflow_x": null,
       "overflow_y": null,
       "padding": null,
       "right": null,
       "top": null,
       "visibility": null,
       "width": null
      }
     },
     "44524530fb2e4d08b3891e80dc47da00": {
      "model_module": "@jupyter-widgets/controls",
      "model_module_version": "1.5.0",
      "model_name": "DescriptionStyleModel",
      "state": {
       "_model_module": "@jupyter-widgets/controls",
       "_model_module_version": "1.5.0",
       "_model_name": "DescriptionStyleModel",
       "_view_count": null,
       "_view_module": "@jupyter-widgets/base",
       "_view_module_version": "1.2.0",
       "_view_name": "StyleView",
       "description_width": ""
      }
     },
     "47440012103e4d1eae0b2cac6bf05880": {
      "model_module": "@jupyter-widgets/controls",
      "model_module_version": "1.5.0",
      "model_name": "FloatProgressModel",
      "state": {
       "_dom_classes": [],
       "_model_module": "@jupyter-widgets/controls",
       "_model_module_version": "1.5.0",
       "_model_name": "FloatProgressModel",
       "_view_count": null,
       "_view_module": "@jupyter-widgets/controls",
       "_view_module_version": "1.5.0",
       "_view_name": "ProgressView",
       "bar_style": "success",
       "description": "",
       "description_tooltip": null,
       "layout": "IPY_MODEL_40c12e03074141039ed3b4d41725c3c5",
       "max": 40456.0,
       "min": 0.0,
       "orientation": "horizontal",
       "style": "IPY_MODEL_e1321c2990764c55a9d6306fd233011d",
       "value": 40456.0
      }
     },
     "487ad2022c714794bcc5987955d9abbb": {
      "model_module": "@jupyter-widgets/base",
      "model_module_version": "1.2.0",
      "model_name": "LayoutModel",
      "state": {
       "_model_module": "@jupyter-widgets/base",
       "_model_module_version": "1.2.0",
       "_model_name": "LayoutModel",
       "_view_count": null,
       "_view_module": "@jupyter-widgets/base",
       "_view_module_version": "1.2.0",
       "_view_name": "LayoutView",
       "align_content": null,
       "align_items": null,
       "align_self": null,
       "border": null,
       "bottom": null,
       "display": null,
       "flex": null,
       "flex_flow": null,
       "grid_area": null,
       "grid_auto_columns": null,
       "grid_auto_flow": null,
       "grid_auto_rows": null,
       "grid_column": null,
       "grid_gap": null,
       "grid_row": null,
       "grid_template_areas": null,
       "grid_template_columns": null,
       "grid_template_rows": null,
       "height": null,
       "justify_content": null,
       "justify_items": null,
       "left": null,
       "margin": null,
       "max_height": null,
       "max_width": null,
       "min_height": null,
       "min_width": null,
       "object_fit": null,
       "object_position": null,
       "order": null,
       "overflow": null,
       "overflow_x": null,
       "overflow_y": null,
       "padding": null,
       "right": null,
       "top": null,
       "visibility": null,
       "width": null
      }
     },
     "4c7e13bba64b4555ae34dcbe15796224": {
      "model_module": "@jupyter-widgets/controls",
      "model_module_version": "1.5.0",
      "model_name": "ProgressStyleModel",
      "state": {
       "_model_module": "@jupyter-widgets/controls",
       "_model_module_version": "1.5.0",
       "_model_name": "ProgressStyleModel",
       "_view_count": null,
       "_view_module": "@jupyter-widgets/base",
       "_view_module_version": "1.2.0",
       "_view_name": "StyleView",
       "bar_color": null,
       "description_width": ""
      }
     },
     "5ccd9888948f48ceb05cad5ee221a573": {
      "model_module": "@jupyter-widgets/base",
      "model_module_version": "1.2.0",
      "model_name": "LayoutModel",
      "state": {
       "_model_module": "@jupyter-widgets/base",
       "_model_module_version": "1.2.0",
       "_model_name": "LayoutModel",
       "_view_count": null,
       "_view_module": "@jupyter-widgets/base",
       "_view_module_version": "1.2.0",
       "_view_name": "LayoutView",
       "align_content": null,
       "align_items": null,
       "align_self": null,
       "border": null,
       "bottom": null,
       "display": null,
       "flex": null,
       "flex_flow": null,
       "grid_area": null,
       "grid_auto_columns": null,
       "grid_auto_flow": null,
       "grid_auto_rows": null,
       "grid_column": null,
       "grid_gap": null,
       "grid_row": null,
       "grid_template_areas": null,
       "grid_template_columns": null,
       "grid_template_rows": null,
       "height": null,
       "justify_content": null,
       "justify_items": null,
       "left": null,
       "margin": null,
       "max_height": null,
       "max_width": null,
       "min_height": null,
       "min_width": null,
       "object_fit": null,
       "object_position": null,
       "order": null,
       "overflow": null,
       "overflow_x": null,
       "overflow_y": null,
       "padding": null,
       "right": null,
       "top": null,
       "visibility": null,
       "width": null
      }
     },
     "60d49db5e8b54be9b51298ea1ba53bf2": {
      "model_module": "@jupyter-widgets/controls",
      "model_module_version": "1.5.0",
      "model_name": "DescriptionStyleModel",
      "state": {
       "_model_module": "@jupyter-widgets/controls",
       "_model_module_version": "1.5.0",
       "_model_name": "DescriptionStyleModel",
       "_view_count": null,
       "_view_module": "@jupyter-widgets/base",
       "_view_module_version": "1.2.0",
       "_view_name": "StyleView",
       "description_width": ""
      }
     },
     "75610ae492a44190a456b260de34af15": {
      "model_module": "@jupyter-widgets/controls",
      "model_module_version": "1.5.0",
      "model_name": "HBoxModel",
      "state": {
       "_dom_classes": [],
       "_model_module": "@jupyter-widgets/controls",
       "_model_module_version": "1.5.0",
       "_model_name": "HBoxModel",
       "_view_count": null,
       "_view_module": "@jupyter-widgets/controls",
       "_view_module_version": "1.5.0",
       "_view_name": "HBoxView",
       "box_style": "",
       "children": [
        "IPY_MODEL_0bd6686cfcd544f6a0527cd085f737dd",
        "IPY_MODEL_b6de53b886c440b9b03806675ad9e099",
        "IPY_MODEL_79a9089fbde841f2aad03aaa9984e3c5"
       ],
       "layout": "IPY_MODEL_b1d475ba55e74ecdb9c0fc766ac19185"
      }
     },
     "781507f3fd1740e7b9fa30f711cb24fa": {
      "model_module": "@jupyter-widgets/controls",
      "model_module_version": "1.5.0",
      "model_name": "DescriptionStyleModel",
      "state": {
       "_model_module": "@jupyter-widgets/controls",
       "_model_module_version": "1.5.0",
       "_model_name": "DescriptionStyleModel",
       "_view_count": null,
       "_view_module": "@jupyter-widgets/base",
       "_view_module_version": "1.2.0",
       "_view_name": "StyleView",
       "description_width": ""
      }
     },
     "79a9089fbde841f2aad03aaa9984e3c5": {
      "model_module": "@jupyter-widgets/controls",
      "model_module_version": "1.5.0",
      "model_name": "HTMLModel",
      "state": {
       "_dom_classes": [],
       "_model_module": "@jupyter-widgets/controls",
       "_model_module_version": "1.5.0",
       "_model_name": "HTMLModel",
       "_view_count": null,
       "_view_module": "@jupyter-widgets/controls",
       "_view_module_version": "1.5.0",
       "_view_name": "HTMLView",
       "description": "",
       "description_tooltip": null,
       "layout": "IPY_MODEL_5ccd9888948f48ceb05cad5ee221a573",
       "placeholder": "​",
       "style": "IPY_MODEL_60d49db5e8b54be9b51298ea1ba53bf2",
       "value": " 8091/8091 [07:57&lt;00:00, 16.96it/s]"
      }
     },
     "81d2ce5b25fa4d6d998ba5f7c9ebff2e": {
      "model_module": "@jupyter-widgets/base",
      "model_module_version": "1.2.0",
      "model_name": "LayoutModel",
      "state": {
       "_model_module": "@jupyter-widgets/base",
       "_model_module_version": "1.2.0",
       "_model_name": "LayoutModel",
       "_view_count": null,
       "_view_module": "@jupyter-widgets/base",
       "_view_module_version": "1.2.0",
       "_view_name": "LayoutView",
       "align_content": null,
       "align_items": null,
       "align_self": null,
       "border": null,
       "bottom": null,
       "display": null,
       "flex": null,
       "flex_flow": null,
       "grid_area": null,
       "grid_auto_columns": null,
       "grid_auto_flow": null,
       "grid_auto_rows": null,
       "grid_column": null,
       "grid_gap": null,
       "grid_row": null,
       "grid_template_areas": null,
       "grid_template_columns": null,
       "grid_template_rows": null,
       "height": null,
       "justify_content": null,
       "justify_items": null,
       "left": null,
       "margin": null,
       "max_height": null,
       "max_width": null,
       "min_height": null,
       "min_width": null,
       "object_fit": null,
       "object_position": null,
       "order": null,
       "overflow": null,
       "overflow_x": null,
       "overflow_y": null,
       "padding": null,
       "right": null,
       "top": null,
       "visibility": null,
       "width": null
      }
     },
     "82aadd8a972a40edb5138fb0e1f32f75": {
      "model_module": "@jupyter-widgets/base",
      "model_module_version": "1.2.0",
      "model_name": "LayoutModel",
      "state": {
       "_model_module": "@jupyter-widgets/base",
       "_model_module_version": "1.2.0",
       "_model_name": "LayoutModel",
       "_view_count": null,
       "_view_module": "@jupyter-widgets/base",
       "_view_module_version": "1.2.0",
       "_view_name": "LayoutView",
       "align_content": null,
       "align_items": null,
       "align_self": null,
       "border": null,
       "bottom": null,
       "display": null,
       "flex": null,
       "flex_flow": null,
       "grid_area": null,
       "grid_auto_columns": null,
       "grid_auto_flow": null,
       "grid_auto_rows": null,
       "grid_column": null,
       "grid_gap": null,
       "grid_row": null,
       "grid_template_areas": null,
       "grid_template_columns": null,
       "grid_template_rows": null,
       "height": null,
       "justify_content": null,
       "justify_items": null,
       "left": null,
       "margin": null,
       "max_height": null,
       "max_width": null,
       "min_height": null,
       "min_width": null,
       "object_fit": null,
       "object_position": null,
       "order": null,
       "overflow": null,
       "overflow_x": null,
       "overflow_y": null,
       "padding": null,
       "right": null,
       "top": null,
       "visibility": null,
       "width": null
      }
     },
     "9a77e69a8d2d433cb245b04fde8cfc9f": {
      "model_module": "@jupyter-widgets/controls",
      "model_module_version": "1.5.0",
      "model_name": "HTMLModel",
      "state": {
       "_dom_classes": [],
       "_model_module": "@jupyter-widgets/controls",
       "_model_module_version": "1.5.0",
       "_model_name": "HTMLModel",
       "_view_count": null,
       "_view_module": "@jupyter-widgets/controls",
       "_view_module_version": "1.5.0",
       "_view_name": "HTMLView",
       "description": "",
       "description_tooltip": null,
       "layout": "IPY_MODEL_cfda591ea99d40a6b8251d3f746aaefa",
       "placeholder": "​",
       "style": "IPY_MODEL_781507f3fd1740e7b9fa30f711cb24fa",
       "value": " 40456/40456 [00:00&lt;00:00, 224445.06it/s]"
      }
     },
     "a837c892c13c48d8a0a58b32e5dd4212": {
      "model_module": "@jupyter-widgets/controls",
      "model_module_version": "1.5.0",
      "model_name": "DescriptionStyleModel",
      "state": {
       "_model_module": "@jupyter-widgets/controls",
       "_model_module_version": "1.5.0",
       "_model_name": "DescriptionStyleModel",
       "_view_count": null,
       "_view_module": "@jupyter-widgets/base",
       "_view_module_version": "1.2.0",
       "_view_name": "StyleView",
       "description_width": ""
      }
     },
     "b1d475ba55e74ecdb9c0fc766ac19185": {
      "model_module": "@jupyter-widgets/base",
      "model_module_version": "1.2.0",
      "model_name": "LayoutModel",
      "state": {
       "_model_module": "@jupyter-widgets/base",
       "_model_module_version": "1.2.0",
       "_model_name": "LayoutModel",
       "_view_count": null,
       "_view_module": "@jupyter-widgets/base",
       "_view_module_version": "1.2.0",
       "_view_name": "LayoutView",
       "align_content": null,
       "align_items": null,
       "align_self": null,
       "border": null,
       "bottom": null,
       "display": null,
       "flex": null,
       "flex_flow": null,
       "grid_area": null,
       "grid_auto_columns": null,
       "grid_auto_flow": null,
       "grid_auto_rows": null,
       "grid_column": null,
       "grid_gap": null,
       "grid_row": null,
       "grid_template_areas": null,
       "grid_template_columns": null,
       "grid_template_rows": null,
       "height": null,
       "justify_content": null,
       "justify_items": null,
       "left": null,
       "margin": null,
       "max_height": null,
       "max_width": null,
       "min_height": null,
       "min_width": null,
       "object_fit": null,
       "object_position": null,
       "order": null,
       "overflow": null,
       "overflow_x": null,
       "overflow_y": null,
       "padding": null,
       "right": null,
       "top": null,
       "visibility": null,
       "width": null
      }
     },
     "b6de53b886c440b9b03806675ad9e099": {
      "model_module": "@jupyter-widgets/controls",
      "model_module_version": "1.5.0",
      "model_name": "FloatProgressModel",
      "state": {
       "_dom_classes": [],
       "_model_module": "@jupyter-widgets/controls",
       "_model_module_version": "1.5.0",
       "_model_name": "FloatProgressModel",
       "_view_count": null,
       "_view_module": "@jupyter-widgets/controls",
       "_view_module_version": "1.5.0",
       "_view_name": "ProgressView",
       "bar_style": "success",
       "description": "",
       "description_tooltip": null,
       "layout": "IPY_MODEL_c2204ddcbd1d48208c7713eea2af32d4",
       "max": 8091.0,
       "min": 0.0,
       "orientation": "horizontal",
       "style": "IPY_MODEL_e2afb51b558d4fa88f5bf33c54506fd0",
       "value": 8091.0
      }
     },
     "b6fa4f5494d64c35b80e75015f1b84d3": {
      "model_module": "@jupyter-widgets/controls",
      "model_module_version": "1.5.0",
      "model_name": "DescriptionStyleModel",
      "state": {
       "_model_module": "@jupyter-widgets/controls",
       "_model_module_version": "1.5.0",
       "_model_name": "DescriptionStyleModel",
       "_view_count": null,
       "_view_module": "@jupyter-widgets/base",
       "_view_module_version": "1.2.0",
       "_view_name": "StyleView",
       "description_width": ""
      }
     },
     "be29a4c7535144de84d219e3e23a7c40": {
      "model_module": "@jupyter-widgets/controls",
      "model_module_version": "1.5.0",
      "model_name": "HTMLModel",
      "state": {
       "_dom_classes": [],
       "_model_module": "@jupyter-widgets/controls",
       "_model_module_version": "1.5.0",
       "_model_name": "HTMLModel",
       "_view_count": null,
       "_view_module": "@jupyter-widgets/controls",
       "_view_module_version": "1.5.0",
       "_view_name": "HTMLView",
       "description": "",
       "description_tooltip": null,
       "layout": "IPY_MODEL_82aadd8a972a40edb5138fb0e1f32f75",
       "placeholder": "​",
       "style": "IPY_MODEL_0c8e79ec8a1444928110dd9af26a07fa",
       "value": "100%"
      }
     },
     "c2204ddcbd1d48208c7713eea2af32d4": {
      "model_module": "@jupyter-widgets/base",
      "model_module_version": "1.2.0",
      "model_name": "LayoutModel",
      "state": {
       "_model_module": "@jupyter-widgets/base",
       "_model_module_version": "1.2.0",
       "_model_name": "LayoutModel",
       "_view_count": null,
       "_view_module": "@jupyter-widgets/base",
       "_view_module_version": "1.2.0",
       "_view_name": "LayoutView",
       "align_content": null,
       "align_items": null,
       "align_self": null,
       "border": null,
       "bottom": null,
       "display": null,
       "flex": null,
       "flex_flow": null,
       "grid_area": null,
       "grid_auto_columns": null,
       "grid_auto_flow": null,
       "grid_auto_rows": null,
       "grid_column": null,
       "grid_gap": null,
       "grid_row": null,
       "grid_template_areas": null,
       "grid_template_columns": null,
       "grid_template_rows": null,
       "height": null,
       "justify_content": null,
       "justify_items": null,
       "left": null,
       "margin": null,
       "max_height": null,
       "max_width": null,
       "min_height": null,
       "min_width": null,
       "object_fit": null,
       "object_position": null,
       "order": null,
       "overflow": null,
       "overflow_x": null,
       "overflow_y": null,
       "padding": null,
       "right": null,
       "top": null,
       "visibility": null,
       "width": null
      }
     },
     "cfda591ea99d40a6b8251d3f746aaefa": {
      "model_module": "@jupyter-widgets/base",
      "model_module_version": "1.2.0",
      "model_name": "LayoutModel",
      "state": {
       "_model_module": "@jupyter-widgets/base",
       "_model_module_version": "1.2.0",
       "_model_name": "LayoutModel",
       "_view_count": null,
       "_view_module": "@jupyter-widgets/base",
       "_view_module_version": "1.2.0",
       "_view_name": "LayoutView",
       "align_content": null,
       "align_items": null,
       "align_self": null,
       "border": null,
       "bottom": null,
       "display": null,
       "flex": null,
       "flex_flow": null,
       "grid_area": null,
       "grid_auto_columns": null,
       "grid_auto_flow": null,
       "grid_auto_rows": null,
       "grid_column": null,
       "grid_gap": null,
       "grid_row": null,
       "grid_template_areas": null,
       "grid_template_columns": null,
       "grid_template_rows": null,
       "height": null,
       "justify_content": null,
       "justify_items": null,
       "left": null,
       "margin": null,
       "max_height": null,
       "max_width": null,
       "min_height": null,
       "min_width": null,
       "object_fit": null,
       "object_position": null,
       "order": null,
       "overflow": null,
       "overflow_x": null,
       "overflow_y": null,
       "padding": null,
       "right": null,
       "top": null,
       "visibility": null,
       "width": null
      }
     },
     "d16ac752c1524b93b6c98d5bde357488": {
      "model_module": "@jupyter-widgets/base",
      "model_module_version": "1.2.0",
      "model_name": "LayoutModel",
      "state": {
       "_model_module": "@jupyter-widgets/base",
       "_model_module_version": "1.2.0",
       "_model_name": "LayoutModel",
       "_view_count": null,
       "_view_module": "@jupyter-widgets/base",
       "_view_module_version": "1.2.0",
       "_view_name": "LayoutView",
       "align_content": null,
       "align_items": null,
       "align_self": null,
       "border": null,
       "bottom": null,
       "display": null,
       "flex": null,
       "flex_flow": null,
       "grid_area": null,
       "grid_auto_columns": null,
       "grid_auto_flow": null,
       "grid_auto_rows": null,
       "grid_column": null,
       "grid_gap": null,
       "grid_row": null,
       "grid_template_areas": null,
       "grid_template_columns": null,
       "grid_template_rows": null,
       "height": null,
       "justify_content": null,
       "justify_items": null,
       "left": null,
       "margin": null,
       "max_height": null,
       "max_width": null,
       "min_height": null,
       "min_width": null,
       "object_fit": null,
       "object_position": null,
       "order": null,
       "overflow": null,
       "overflow_x": null,
       "overflow_y": null,
       "padding": null,
       "right": null,
       "top": null,
       "visibility": null,
       "width": null
      }
     },
     "e1321c2990764c55a9d6306fd233011d": {
      "model_module": "@jupyter-widgets/controls",
      "model_module_version": "1.5.0",
      "model_name": "ProgressStyleModel",
      "state": {
       "_model_module": "@jupyter-widgets/controls",
       "_model_module_version": "1.5.0",
       "_model_name": "ProgressStyleModel",
       "_view_count": null,
       "_view_module": "@jupyter-widgets/base",
       "_view_module_version": "1.2.0",
       "_view_name": "StyleView",
       "bar_color": null,
       "description_width": ""
      }
     },
     "e2afb51b558d4fa88f5bf33c54506fd0": {
      "model_module": "@jupyter-widgets/controls",
      "model_module_version": "1.5.0",
      "model_name": "ProgressStyleModel",
      "state": {
       "_model_module": "@jupyter-widgets/controls",
       "_model_module_version": "1.5.0",
       "_model_name": "ProgressStyleModel",
       "_view_count": null,
       "_view_module": "@jupyter-widgets/base",
       "_view_module_version": "1.2.0",
       "_view_name": "StyleView",
       "bar_color": null,
       "description_width": ""
      }
     },
     "eceb6a3fa80e48bca494b848df3464a9": {
      "model_module": "@jupyter-widgets/controls",
      "model_module_version": "1.5.0",
      "model_name": "HTMLModel",
      "state": {
       "_dom_classes": [],
       "_model_module": "@jupyter-widgets/controls",
       "_model_module_version": "1.5.0",
       "_model_name": "HTMLModel",
       "_view_count": null,
       "_view_module": "@jupyter-widgets/controls",
       "_view_module_version": "1.5.0",
       "_view_name": "HTMLView",
       "description": "",
       "description_tooltip": null,
       "layout": "IPY_MODEL_283911709625487ea87a26a3a37e9153",
       "placeholder": "​",
       "style": "IPY_MODEL_a837c892c13c48d8a0a58b32e5dd4212",
       "value": " 810/810 [16:30&lt;00:00,  1.24s/it]"
      }
     },
     "ed013549b1354e23b43a8dd59c276f59": {
      "model_module": "@jupyter-widgets/controls",
      "model_module_version": "1.5.0",
      "model_name": "HTMLModel",
      "state": {
       "_dom_classes": [],
       "_model_module": "@jupyter-widgets/controls",
       "_model_module_version": "1.5.0",
       "_model_name": "HTMLModel",
       "_view_count": null,
       "_view_module": "@jupyter-widgets/controls",
       "_view_module_version": "1.5.0",
       "_view_name": "HTMLView",
       "description": "",
       "description_tooltip": null,
       "layout": "IPY_MODEL_406669c45f494067a65b875642bfd8b9",
       "placeholder": "​",
       "style": "IPY_MODEL_44524530fb2e4d08b3891e80dc47da00",
       "value": "100%"
      }
     },
     "f4abec9b06a140269bf8e44e13668234": {
      "model_module": "@jupyter-widgets/controls",
      "model_module_version": "1.5.0",
      "model_name": "HBoxModel",
      "state": {
       "_dom_classes": [],
       "_model_module": "@jupyter-widgets/controls",
       "_model_module_version": "1.5.0",
       "_model_name": "HBoxModel",
       "_view_count": null,
       "_view_module": "@jupyter-widgets/controls",
       "_view_module_version": "1.5.0",
       "_view_name": "HBoxView",
       "box_style": "",
       "children": [
        "IPY_MODEL_be29a4c7535144de84d219e3e23a7c40",
        "IPY_MODEL_47440012103e4d1eae0b2cac6bf05880",
        "IPY_MODEL_9a77e69a8d2d433cb245b04fde8cfc9f"
       ],
       "layout": "IPY_MODEL_d16ac752c1524b93b6c98d5bde357488"
      }
     }
    },
    "version_major": 2,
    "version_minor": 0
   }
  }
 },
 "nbformat": 4,
 "nbformat_minor": 5
}
