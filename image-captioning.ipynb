{
 "cells": [
  {
   "cell_type": "code",
   "execution_count": 1,
   "id": "c82b0512",
   "metadata": {
    "execution": {
     "iopub.execute_input": "2022-07-17T12:43:17.654874Z",
     "iopub.status.busy": "2022-07-17T12:43:17.654326Z",
     "iopub.status.idle": "2022-07-17T12:43:23.649571Z",
     "shell.execute_reply": "2022-07-17T12:43:23.648611Z"
    },
    "papermill": {
     "duration": 6.006909,
     "end_time": "2022-07-17T12:43:23.652329",
     "exception": false,
     "start_time": "2022-07-17T12:43:17.645420",
     "status": "completed"
    },
    "tags": []
   },
   "outputs": [],
   "source": [
    "# import modules\n",
    "\n",
    "import os\n",
    "import pickle\n",
    "import numpy as np\n",
    "from tqdm.notebook import tqdm\n",
    "\n",
    "from tensorflow.keras.applications.vgg16 import VGG16, preprocess_input\n",
    "from tensorflow.keras.preprocessing.image import load_img, img_to_array\n",
    "from tensorflow.keras.preprocessing.text import Tokenizer\n",
    "\n",
    "from tensorflow.keras.preprocessing.sequence import pad_sequences\n",
    "from tensorflow.keras.models import Model\n",
    "from tensorflow.keras.utils import to_categorical, plot_model\n",
    "from tensorflow.keras.layers import Dense, LSTM, Dropout, Input, Embedding, add"
   ]
  },
  {
   "cell_type": "code",
   "execution_count": 2,
   "id": "4cb94186",
   "metadata": {
    "execution": {
     "iopub.execute_input": "2022-07-17T12:43:23.665919Z",
     "iopub.status.busy": "2022-07-17T12:43:23.665416Z",
     "iopub.status.idle": "2022-07-17T12:43:23.669737Z",
     "shell.execute_reply": "2022-07-17T12:43:23.668770Z"
    },
    "papermill": {
     "duration": 0.013327,
     "end_time": "2022-07-17T12:43:23.671918",
     "exception": false,
     "start_time": "2022-07-17T12:43:23.658591",
     "status": "completed"
    },
    "tags": []
   },
   "outputs": [],
   "source": [
    "# setting up directories\n",
    "\n",
    "BASE_DIR = '/kaggle/input/flickr8k'\n",
    "WORKING_DIR = '/kaggle/working'"
   ]
  },
  {
   "cell_type": "code",
   "execution_count": 3,
   "id": "adfec830",
   "metadata": {
    "execution": {
     "iopub.execute_input": "2022-07-17T12:43:23.684591Z",
     "iopub.status.busy": "2022-07-17T12:43:23.684340Z",
     "iopub.status.idle": "2022-07-17T12:43:30.393430Z",
     "shell.execute_reply": "2022-07-17T12:43:30.392007Z"
    },
    "papermill": {
     "duration": 6.719047,
     "end_time": "2022-07-17T12:43:30.396705",
     "exception": false,
     "start_time": "2022-07-17T12:43:23.677658",
     "status": "completed"
    },
    "tags": []
   },
   "outputs": [
    {
     "name": "stderr",
     "output_type": "stream",
     "text": [
      "2022-07-17 12:43:23.781497: I tensorflow/stream_executor/cuda/cuda_gpu_executor.cc:937] successful NUMA node read from SysFS had negative value (-1), but there must be at least one NUMA node, so returning NUMA node zero\n",
      "2022-07-17 12:43:23.885729: I tensorflow/stream_executor/cuda/cuda_gpu_executor.cc:937] successful NUMA node read from SysFS had negative value (-1), but there must be at least one NUMA node, so returning NUMA node zero\n",
      "2022-07-17 12:43:23.886469: I tensorflow/stream_executor/cuda/cuda_gpu_executor.cc:937] successful NUMA node read from SysFS had negative value (-1), but there must be at least one NUMA node, so returning NUMA node zero\n",
      "2022-07-17 12:43:23.887555: I tensorflow/core/platform/cpu_feature_guard.cc:142] This TensorFlow binary is optimized with oneAPI Deep Neural Network Library (oneDNN) to use the following CPU instructions in performance-critical operations:  AVX2 AVX512F FMA\n",
      "To enable them in other operations, rebuild TensorFlow with the appropriate compiler flags.\n",
      "2022-07-17 12:43:23.894833: I tensorflow/stream_executor/cuda/cuda_gpu_executor.cc:937] successful NUMA node read from SysFS had negative value (-1), but there must be at least one NUMA node, so returning NUMA node zero\n",
      "2022-07-17 12:43:23.895509: I tensorflow/stream_executor/cuda/cuda_gpu_executor.cc:937] successful NUMA node read from SysFS had negative value (-1), but there must be at least one NUMA node, so returning NUMA node zero\n",
      "2022-07-17 12:43:23.896173: I tensorflow/stream_executor/cuda/cuda_gpu_executor.cc:937] successful NUMA node read from SysFS had negative value (-1), but there must be at least one NUMA node, so returning NUMA node zero\n",
      "2022-07-17 12:43:26.188221: I tensorflow/stream_executor/cuda/cuda_gpu_executor.cc:937] successful NUMA node read from SysFS had negative value (-1), but there must be at least one NUMA node, so returning NUMA node zero\n",
      "2022-07-17 12:43:26.189041: I tensorflow/stream_executor/cuda/cuda_gpu_executor.cc:937] successful NUMA node read from SysFS had negative value (-1), but there must be at least one NUMA node, so returning NUMA node zero\n",
      "2022-07-17 12:43:26.189669: I tensorflow/stream_executor/cuda/cuda_gpu_executor.cc:937] successful NUMA node read from SysFS had negative value (-1), but there must be at least one NUMA node, so returning NUMA node zero\n",
      "2022-07-17 12:43:26.190370: I tensorflow/core/common_runtime/gpu/gpu_device.cc:1510] Created device /job:localhost/replica:0/task:0/device:GPU:0 with 15403 MB memory:  -> device: 0, name: Tesla P100-PCIE-16GB, pci bus id: 0000:00:04.0, compute capability: 6.0\n"
     ]
    },
    {
     "name": "stdout",
     "output_type": "stream",
     "text": [
      "Downloading data from https://storage.googleapis.com/tensorflow/keras-applications/vgg16/vgg16_weights_tf_dim_ordering_tf_kernels.h5\n",
      "553467904/553467096 [==============================] - 3s 0us/step\n",
      "553476096/553467096 [==============================] - 3s 0us/step\n",
      "Model: \"model\"\n",
      "_________________________________________________________________\n",
      "Layer (type)                 Output Shape              Param #   \n",
      "=================================================================\n",
      "input_1 (InputLayer)         [(None, 224, 224, 3)]     0         \n",
      "_________________________________________________________________\n",
      "block1_conv1 (Conv2D)        (None, 224, 224, 64)      1792      \n",
      "_________________________________________________________________\n",
      "block1_conv2 (Conv2D)        (None, 224, 224, 64)      36928     \n",
      "_________________________________________________________________\n",
      "block1_pool (MaxPooling2D)   (None, 112, 112, 64)      0         \n",
      "_________________________________________________________________\n",
      "block2_conv1 (Conv2D)        (None, 112, 112, 128)     73856     \n",
      "_________________________________________________________________\n",
      "block2_conv2 (Conv2D)        (None, 112, 112, 128)     147584    \n",
      "_________________________________________________________________\n",
      "block2_pool (MaxPooling2D)   (None, 56, 56, 128)       0         \n",
      "_________________________________________________________________\n",
      "block3_conv1 (Conv2D)        (None, 56, 56, 256)       295168    \n",
      "_________________________________________________________________\n",
      "block3_conv2 (Conv2D)        (None, 56, 56, 256)       590080    \n",
      "_________________________________________________________________\n",
      "block3_conv3 (Conv2D)        (None, 56, 56, 256)       590080    \n",
      "_________________________________________________________________\n",
      "block3_pool (MaxPooling2D)   (None, 28, 28, 256)       0         \n",
      "_________________________________________________________________\n",
      "block4_conv1 (Conv2D)        (None, 28, 28, 512)       1180160   \n",
      "_________________________________________________________________\n",
      "block4_conv2 (Conv2D)        (None, 28, 28, 512)       2359808   \n",
      "_________________________________________________________________\n",
      "block4_conv3 (Conv2D)        (None, 28, 28, 512)       2359808   \n",
      "_________________________________________________________________\n",
      "block4_pool (MaxPooling2D)   (None, 14, 14, 512)       0         \n",
      "_________________________________________________________________\n",
      "block5_conv1 (Conv2D)        (None, 14, 14, 512)       2359808   \n",
      "_________________________________________________________________\n",
      "block5_conv2 (Conv2D)        (None, 14, 14, 512)       2359808   \n",
      "_________________________________________________________________\n",
      "block5_conv3 (Conv2D)        (None, 14, 14, 512)       2359808   \n",
      "_________________________________________________________________\n",
      "block5_pool (MaxPooling2D)   (None, 7, 7, 512)         0         \n",
      "_________________________________________________________________\n",
      "flatten (Flatten)            (None, 25088)             0         \n",
      "_________________________________________________________________\n",
      "fc1 (Dense)                  (None, 4096)              102764544 \n",
      "_________________________________________________________________\n",
      "fc2 (Dense)                  (None, 4096)              16781312  \n",
      "=================================================================\n",
      "Total params: 134,260,544\n",
      "Trainable params: 134,260,544\n",
      "Non-trainable params: 0\n",
      "_________________________________________________________________\n"
     ]
    }
   ],
   "source": [
    "# Launching the model\n",
    "model = VGG16()\n",
    "# modifying the model\n",
    "model = Model(inputs = model.inputs, outputs = model.layers[-2].output) #removing FCN layers of the architecture\n",
    "# summarizing the model\n",
    "model.summary()"
   ]
  },
  {
   "cell_type": "code",
   "execution_count": 4,
   "id": "1495c5e2",
   "metadata": {
    "execution": {
     "iopub.execute_input": "2022-07-17T12:43:30.426875Z",
     "iopub.status.busy": "2022-07-17T12:43:30.426500Z",
     "iopub.status.idle": "2022-07-17T12:43:30.433104Z",
     "shell.execute_reply": "2022-07-17T12:43:30.431840Z"
    },
    "papermill": {
     "duration": 0.025441,
     "end_time": "2022-07-17T12:43:30.436852",
     "exception": false,
     "start_time": "2022-07-17T12:43:30.411411",
     "status": "completed"
    },
    "tags": []
   },
   "outputs": [],
   "source": [
    "features = {}"
   ]
  },
  {
   "cell_type": "code",
   "execution_count": 5,
   "id": "0691fafe",
   "metadata": {
    "execution": {
     "iopub.execute_input": "2022-07-17T12:43:30.456526Z",
     "iopub.status.busy": "2022-07-17T12:43:30.456267Z",
     "iopub.status.idle": "2022-07-17T12:51:22.654722Z",
     "shell.execute_reply": "2022-07-17T12:51:22.653816Z"
    },
    "papermill": {
     "duration": 472.210204,
     "end_time": "2022-07-17T12:51:22.656771",
     "exception": false,
     "start_time": "2022-07-17T12:43:30.446567",
     "status": "completed"
    },
    "tags": []
   },
   "outputs": [
    {
     "data": {
      "application/vnd.jupyter.widget-view+json": {
       "model_id": "8bac94fe66994da48c4a7892a848ea03",
       "version_major": 2,
       "version_minor": 0
      },
      "text/plain": [
       "  0%|          | 0/8091 [00:00<?, ?it/s]"
      ]
     },
     "metadata": {},
     "output_type": "display_data"
    },
    {
     "name": "stderr",
     "output_type": "stream",
     "text": [
      "2022-07-17 12:43:30.987079: I tensorflow/compiler/mlir/mlir_graph_optimization_pass.cc:185] None of the MLIR Optimization Passes are enabled (registered 2)\n",
      "2022-07-17 12:43:31.953670: I tensorflow/stream_executor/cuda/cuda_dnn.cc:369] Loaded cuDNN version 8005\n"
     ]
    }
   ],
   "source": [
    "# image feature extraction\n",
    "directory = os.path.join(BASE_DIR, 'Images') \n",
    "for img_name in tqdm(os.listdir(directory)):\n",
    "    # loading a image\n",
    "    img_path = directory + '/' + img_name\n",
    "    image = load_img(img_path, target_size = (224, 224))\n",
    "    image = img_to_array(image)\n",
    "    image = image.reshape((1, image.shape[0], image.shape[1], image.shape[2]))\n",
    "    image = preprocess_input(image)\n",
    "    feature = model.predict(image, verbose = 0)\n",
    "    img_id = img_name.split('.')[0]\n",
    "    features[img_id] = feature"
   ]
  },
  {
   "cell_type": "code",
   "execution_count": 6,
   "id": "347b2aea",
   "metadata": {
    "execution": {
     "iopub.execute_input": "2022-07-17T12:51:22.677069Z",
     "iopub.status.busy": "2022-07-17T12:51:22.676768Z",
     "iopub.status.idle": "2022-07-17T12:51:23.048880Z",
     "shell.execute_reply": "2022-07-17T12:51:23.047280Z"
    },
    "papermill": {
     "duration": 0.385644,
     "end_time": "2022-07-17T12:51:23.052083",
     "exception": false,
     "start_time": "2022-07-17T12:51:22.666439",
     "status": "completed"
    },
    "tags": []
   },
   "outputs": [],
   "source": [
    "# Storing extracted features in pickle\n",
    "pickle.dump(features, open(os.path.join(WORKING_DIR, 'features.pkl'), 'wb'))"
   ]
  },
  {
   "cell_type": "code",
   "execution_count": 7,
   "id": "7f9619e4",
   "metadata": {
    "execution": {
     "iopub.execute_input": "2022-07-17T12:51:23.084851Z",
     "iopub.status.busy": "2022-07-17T12:51:23.084175Z",
     "iopub.status.idle": "2022-07-17T12:51:23.272322Z",
     "shell.execute_reply": "2022-07-17T12:51:23.269821Z"
    },
    "papermill": {
     "duration": 0.207238,
     "end_time": "2022-07-17T12:51:23.275197",
     "exception": false,
     "start_time": "2022-07-17T12:51:23.067959",
     "status": "completed"
    },
    "tags": []
   },
   "outputs": [],
   "source": [
    "# loading data from pickle\n",
    "with open(os.path.join(WORKING_DIR, 'features.pkl'), 'rb') as f:\n",
    "    features = pickle.load(f)"
   ]
  },
  {
   "cell_type": "code",
   "execution_count": 8,
   "id": "be3af973",
   "metadata": {
    "execution": {
     "iopub.execute_input": "2022-07-17T12:51:23.307655Z",
     "iopub.status.busy": "2022-07-17T12:51:23.307247Z",
     "iopub.status.idle": "2022-07-17T12:51:23.348120Z",
     "shell.execute_reply": "2022-07-17T12:51:23.347107Z"
    },
    "papermill": {
     "duration": 0.059991,
     "end_time": "2022-07-17T12:51:23.350887",
     "exception": false,
     "start_time": "2022-07-17T12:51:23.290896",
     "status": "completed"
    },
    "tags": []
   },
   "outputs": [],
   "source": [
    "#loading captions file\n",
    "\n",
    "with open(os.path.join(BASE_DIR, 'captions.txt'), 'r') as f:\n",
    "    next(f)\n",
    "    captions_file = f.read()"
   ]
  },
  {
   "cell_type": "code",
   "execution_count": 9,
   "id": "48357477",
   "metadata": {
    "execution": {
     "iopub.execute_input": "2022-07-17T12:51:23.382251Z",
     "iopub.status.busy": "2022-07-17T12:51:23.381774Z",
     "iopub.status.idle": "2022-07-17T12:51:23.623485Z",
     "shell.execute_reply": "2022-07-17T12:51:23.622505Z"
    },
    "papermill": {
     "duration": 0.261786,
     "end_time": "2022-07-17T12:51:23.627120",
     "exception": false,
     "start_time": "2022-07-17T12:51:23.365334",
     "status": "completed"
    },
    "tags": []
   },
   "outputs": [
    {
     "data": {
      "application/vnd.jupyter.widget-view+json": {
       "model_id": "803e9d883a86424a89171f05ac0d79fb",
       "version_major": 2,
       "version_minor": 0
      },
      "text/plain": [
       "  0%|          | 0/40456 [00:00<?, ?it/s]"
      ]
     },
     "metadata": {},
     "output_type": "display_data"
    }
   ],
   "source": [
    "#image captions mapping\n",
    "captions_mapping = {}\n",
    "\n",
    "for L in tqdm(captions_file.split('\\n')):\n",
    "    #splitting the image name and captions.\n",
    "    idcap = L.split(',')\n",
    "    if(len(L) < 2):\n",
    "        continue\n",
    "    image_id, caption = idcap[0], idcap[1]\n",
    "    #removing image id \n",
    "    image_id = image_id.split('.')[0]\n",
    "    \n",
    "    caption = ''.join(caption)\n",
    "    \n",
    "    if image_id not in captions_mapping:\n",
    "        captions_mapping[image_id] = []\n",
    "    captions_mapping[image_id].append(caption)"
   ]
  },
  {
   "cell_type": "code",
   "execution_count": 10,
   "id": "0092c3b2",
   "metadata": {
    "execution": {
     "iopub.execute_input": "2022-07-17T12:51:23.647871Z",
     "iopub.status.busy": "2022-07-17T12:51:23.647558Z",
     "iopub.status.idle": "2022-07-17T12:51:23.652649Z",
     "shell.execute_reply": "2022-07-17T12:51:23.651800Z"
    },
    "papermill": {
     "duration": 0.0178,
     "end_time": "2022-07-17T12:51:23.654558",
     "exception": false,
     "start_time": "2022-07-17T12:51:23.636758",
     "status": "completed"
    },
    "tags": []
   },
   "outputs": [
    {
     "name": "stdout",
     "output_type": "stream",
     "text": [
      "8091 8091\n"
     ]
    }
   ],
   "source": [
    "print(len(captions_mapping), len(features))"
   ]
  },
  {
   "cell_type": "code",
   "execution_count": 11,
   "id": "bade607a",
   "metadata": {
    "execution": {
     "iopub.execute_input": "2022-07-17T12:51:23.675005Z",
     "iopub.status.busy": "2022-07-17T12:51:23.674240Z",
     "iopub.status.idle": "2022-07-17T12:51:23.681400Z",
     "shell.execute_reply": "2022-07-17T12:51:23.680494Z"
    },
    "papermill": {
     "duration": 0.019779,
     "end_time": "2022-07-17T12:51:23.683863",
     "exception": false,
     "start_time": "2022-07-17T12:51:23.664084",
     "status": "completed"
    },
    "tags": []
   },
   "outputs": [],
   "source": [
    "# Preprocessing the captions data\n",
    "def clean(captions_mapping):\n",
    "    for key, captions in captions_mapping.items():\n",
    "        for i in range(len(captions)):\n",
    "            # Taking one caption at a time\n",
    "            caption = captions[i]\n",
    "            # Convert to lower case\n",
    "            caption = caption.lower()\n",
    "            # Delete digits, special characters etc...\n",
    "            caption = caption.replace('[^A-Za-z]', '')\n",
    "            # Delete additional spaces\n",
    "            caption = caption.replace('\\s+', ' ')\n",
    "            # Adding start and end tags to the caption\n",
    "            caption = '<start> ' + ' '.join([word for word in caption.split() if len(word) > 1]) + ' <end>'\n",
    "            captions[i] = caption"
   ]
  },
  {
   "cell_type": "code",
   "execution_count": 12,
   "id": "4d8bade4",
   "metadata": {
    "execution": {
     "iopub.execute_input": "2022-07-17T12:51:23.704637Z",
     "iopub.status.busy": "2022-07-17T12:51:23.704370Z",
     "iopub.status.idle": "2022-07-17T12:51:23.711469Z",
     "shell.execute_reply": "2022-07-17T12:51:23.710492Z"
    },
    "papermill": {
     "duration": 0.020867,
     "end_time": "2022-07-17T12:51:23.714540",
     "exception": false,
     "start_time": "2022-07-17T12:51:23.693673",
     "status": "completed"
    },
    "tags": []
   },
   "outputs": [
    {
     "data": {
      "text/plain": [
       "['A child in a pink dress is climbing up a set of stairs in an entry way .',\n",
       " 'A girl going into a wooden building .',\n",
       " 'A little girl climbing into a wooden playhouse .',\n",
       " 'A little girl climbing the stairs to her playhouse .',\n",
       " 'A little girl in a pink dress going into a wooden cabin .']"
      ]
     },
     "execution_count": 12,
     "metadata": {},
     "output_type": "execute_result"
    }
   ],
   "source": [
    "# Before preprocessing the captions\n",
    "captions_mapping['1000268201_693b08cb0e']"
   ]
  },
  {
   "cell_type": "code",
   "execution_count": 13,
   "id": "b7b49ba3",
   "metadata": {
    "execution": {
     "iopub.execute_input": "2022-07-17T12:51:23.734834Z",
     "iopub.status.busy": "2022-07-17T12:51:23.734546Z",
     "iopub.status.idle": "2022-07-17T12:51:23.871585Z",
     "shell.execute_reply": "2022-07-17T12:51:23.870623Z"
    },
    "papermill": {
     "duration": 0.149707,
     "end_time": "2022-07-17T12:51:23.873712",
     "exception": false,
     "start_time": "2022-07-17T12:51:23.724005",
     "status": "completed"
    },
    "tags": []
   },
   "outputs": [
    {
     "data": {
      "text/plain": [
       "['<start> child in pink dress is climbing up set of stairs in an entry way <end>',\n",
       " '<start> girl going into wooden building <end>',\n",
       " '<start> little girl climbing into wooden playhouse <end>',\n",
       " '<start> little girl climbing the stairs to her playhouse <end>',\n",
       " '<start> little girl in pink dress going into wooden cabin <end>']"
      ]
     },
     "execution_count": 13,
     "metadata": {},
     "output_type": "execute_result"
    }
   ],
   "source": [
    "# After preprocessing the captions\n",
    "clean(captions_mapping)\n",
    "captions_mapping['1000268201_693b08cb0e']"
   ]
  },
  {
   "cell_type": "code",
   "execution_count": 14,
   "id": "b7276d2e",
   "metadata": {
    "execution": {
     "iopub.execute_input": "2022-07-17T12:51:23.895349Z",
     "iopub.status.busy": "2022-07-17T12:51:23.894574Z",
     "iopub.status.idle": "2022-07-17T12:51:23.909366Z",
     "shell.execute_reply": "2022-07-17T12:51:23.908431Z"
    },
    "papermill": {
     "duration": 0.027923,
     "end_time": "2022-07-17T12:51:23.911345",
     "exception": false,
     "start_time": "2022-07-17T12:51:23.883422",
     "status": "completed"
    },
    "tags": []
   },
   "outputs": [],
   "source": [
    "# Gathering all the captions into a single list\n",
    "all_captions = []\n",
    "for key in captions_mapping:\n",
    "    for caption in captions_mapping[key]:\n",
    "        all_captions.append(caption)"
   ]
  },
  {
   "cell_type": "code",
   "execution_count": 15,
   "id": "b68e61ea",
   "metadata": {
    "execution": {
     "iopub.execute_input": "2022-07-17T12:51:23.932013Z",
     "iopub.status.busy": "2022-07-17T12:51:23.931697Z",
     "iopub.status.idle": "2022-07-17T12:51:23.937828Z",
     "shell.execute_reply": "2022-07-17T12:51:23.936691Z"
    },
    "papermill": {
     "duration": 0.019626,
     "end_time": "2022-07-17T12:51:23.940738",
     "exception": false,
     "start_time": "2022-07-17T12:51:23.921112",
     "status": "completed"
    },
    "tags": []
   },
   "outputs": [
    {
     "data": {
      "text/plain": [
       "40455"
      ]
     },
     "execution_count": 15,
     "metadata": {},
     "output_type": "execute_result"
    }
   ],
   "source": [
    "len(all_captions)"
   ]
  },
  {
   "cell_type": "code",
   "execution_count": 16,
   "id": "32da126f",
   "metadata": {
    "execution": {
     "iopub.execute_input": "2022-07-17T12:51:23.962254Z",
     "iopub.status.busy": "2022-07-17T12:51:23.961964Z",
     "iopub.status.idle": "2022-07-17T12:51:24.583423Z",
     "shell.execute_reply": "2022-07-17T12:51:24.582259Z"
    },
    "papermill": {
     "duration": 0.63475,
     "end_time": "2022-07-17T12:51:24.586132",
     "exception": false,
     "start_time": "2022-07-17T12:51:23.951382",
     "status": "completed"
    },
    "tags": []
   },
   "outputs": [],
   "source": [
    "# Counts total no.of words in a array of strings excluding some special characters like punctuation marks\n",
    "tokenizer = Tokenizer()\n",
    "tokenizer.fit_on_texts(all_captions)\n",
    "vocab_size = len(tokenizer.word_index) + 1"
   ]
  },
  {
   "cell_type": "code",
   "execution_count": 17,
   "id": "ba723cc5",
   "metadata": {
    "execution": {
     "iopub.execute_input": "2022-07-17T12:51:24.607056Z",
     "iopub.status.busy": "2022-07-17T12:51:24.606746Z",
     "iopub.status.idle": "2022-07-17T12:51:24.613423Z",
     "shell.execute_reply": "2022-07-17T12:51:24.612559Z"
    },
    "papermill": {
     "duration": 0.019431,
     "end_time": "2022-07-17T12:51:24.615509",
     "exception": false,
     "start_time": "2022-07-17T12:51:24.596078",
     "status": "completed"
    },
    "tags": []
   },
   "outputs": [
    {
     "data": {
      "text/plain": [
       "8311"
      ]
     },
     "execution_count": 17,
     "metadata": {},
     "output_type": "execute_result"
    }
   ],
   "source": [
    "vocab_size"
   ]
  },
  {
   "cell_type": "code",
   "execution_count": 18,
   "id": "8c9d7566",
   "metadata": {
    "execution": {
     "iopub.execute_input": "2022-07-17T12:51:24.636247Z",
     "iopub.status.busy": "2022-07-17T12:51:24.635983Z",
     "iopub.status.idle": "2022-07-17T12:51:24.671651Z",
     "shell.execute_reply": "2022-07-17T12:51:24.670830Z"
    },
    "papermill": {
     "duration": 0.048227,
     "end_time": "2022-07-17T12:51:24.673486",
     "exception": false,
     "start_time": "2022-07-17T12:51:24.625259",
     "status": "completed"
    },
    "tags": []
   },
   "outputs": [
    {
     "data": {
      "text/plain": [
       "31"
      ]
     },
     "execution_count": 18,
     "metadata": {},
     "output_type": "execute_result"
    }
   ],
   "source": [
    "# Get the maximum length of the caption\n",
    "max_cap_len = max([len(caption.split()) for caption in all_captions])\n",
    "max_cap_len"
   ]
  },
  {
   "cell_type": "code",
   "execution_count": 19,
   "id": "7568862b",
   "metadata": {
    "execution": {
     "iopub.execute_input": "2022-07-17T12:51:24.694055Z",
     "iopub.status.busy": "2022-07-17T12:51:24.693800Z",
     "iopub.status.idle": "2022-07-17T12:51:24.699066Z",
     "shell.execute_reply": "2022-07-17T12:51:24.698099Z"
    },
    "papermill": {
     "duration": 0.017851,
     "end_time": "2022-07-17T12:51:24.701134",
     "exception": false,
     "start_time": "2022-07-17T12:51:24.683283",
     "status": "completed"
    },
    "tags": []
   },
   "outputs": [],
   "source": [
    "# Splitting the tarin and test data\n",
    "img_ids = list(captions_mapping.keys())\n",
    "split = int(len(img_ids)*0.9)\n",
    "train_data = img_ids[:split]\n",
    "test_data = img_ids[split:]"
   ]
  },
  {
   "cell_type": "code",
   "execution_count": 20,
   "id": "08c7817b",
   "metadata": {
    "execution": {
     "iopub.execute_input": "2022-07-17T12:51:24.722075Z",
     "iopub.status.busy": "2022-07-17T12:51:24.721731Z",
     "iopub.status.idle": "2022-07-17T12:51:24.726798Z",
     "shell.execute_reply": "2022-07-17T12:51:24.725846Z"
    },
    "papermill": {
     "duration": 0.01938,
     "end_time": "2022-07-17T12:51:24.730159",
     "exception": false,
     "start_time": "2022-07-17T12:51:24.710779",
     "status": "completed"
    },
    "tags": []
   },
   "outputs": [
    {
     "name": "stdout",
     "output_type": "stream",
     "text": [
      "7281 810\n"
     ]
    }
   ],
   "source": [
    "print(len(train_data), len(test_data))"
   ]
  },
  {
   "cell_type": "code",
   "execution_count": 21,
   "id": "d1f3413d",
   "metadata": {
    "execution": {
     "iopub.execute_input": "2022-07-17T12:51:24.750814Z",
     "iopub.status.busy": "2022-07-17T12:51:24.750542Z",
     "iopub.status.idle": "2022-07-17T12:51:24.760373Z",
     "shell.execute_reply": "2022-07-17T12:51:24.759591Z"
    },
    "papermill": {
     "duration": 0.022223,
     "end_time": "2022-07-17T12:51:24.762198",
     "exception": false,
     "start_time": "2022-07-17T12:51:24.739975",
     "status": "completed"
    },
    "tags": []
   },
   "outputs": [],
   "source": [
    "#data in batches\n",
    "def data_batch(data_keys, captions_mapping, features, tokenizer, max_cap_len, vocab_size, batch_size):\n",
    "    X1, X2, y = list(),  list(), list()\n",
    "    count = 0\n",
    "    while 1:\n",
    "        for key in data_keys:\n",
    "            count += 1\n",
    "            captions = captions_mapping[key]\n",
    "            for caption in captions:\n",
    "                seq = tokenizer.texts_to_sequences([caption])[0]\n",
    "                for i in range(1, len(seq)):\n",
    "                    in_seq = seq[:i]\n",
    "                    out_seq = seq[i]\n",
    "                    \n",
    "                    in_seq = pad_sequences([in_seq], maxlen = max_cap_len)[0]\n",
    "                    \n",
    "                    out_seq = to_categorical([out_seq], num_classes = vocab_size)[0]\n",
    "                    \n",
    "                    X1.append(features[key][0])\n",
    "                    X2.append(in_seq)\n",
    "                    y.append(out_seq)\n",
    "            if(count == batch_size):\n",
    "                X1 = np.array(X1)\n",
    "                X2 = np.array(X2)\n",
    "                y = np.array(y)\n",
    "                yield [X1,X2], y\n",
    "                X1, X2, y = list(),  list(), list()\n",
    "                count = 0"
   ]
  },
  {
   "cell_type": "code",
   "execution_count": 22,
   "id": "bb7a8e0f",
   "metadata": {
    "execution": {
     "iopub.execute_input": "2022-07-17T12:51:24.784262Z",
     "iopub.status.busy": "2022-07-17T12:51:24.783541Z",
     "iopub.status.idle": "2022-07-17T12:51:26.644940Z",
     "shell.execute_reply": "2022-07-17T12:51:26.643552Z"
    },
    "papermill": {
     "duration": 1.875011,
     "end_time": "2022-07-17T12:51:26.647330",
     "exception": false,
     "start_time": "2022-07-17T12:51:24.772319",
     "status": "completed"
    },
    "tags": []
   },
   "outputs": [],
   "source": [
    "#Model creation\n",
    "\n",
    "inputs1 = Input(shape = (4096,))\n",
    "feature1 = Dropout(0.4)(inputs1)\n",
    "feature2 = Dense(256, activation = 'relu')(feature1)\n",
    "\n",
    "inputs2 = Input(shape = (max_cap_len,))\n",
    "sequence1 = Embedding(vocab_size, 256, mask_zero = True)(inputs2)\n",
    "sequence2 = Dropout(0.4)(sequence1)\n",
    "sequence3 = LSTM(256)(sequence2)\n",
    "\n",
    "decoder1 = add([feature2, sequence3])\n",
    "decoder2 = Dense(256, activation = 'relu')(decoder1)\n",
    "outputs = Dense(vocab_size, activation = 'softmax')(decoder2)\n",
    "\n",
    "model = Model(inputs = [inputs1,inputs2], outputs = outputs)\n",
    "model.compile(loss = 'categorical_crossentropy', optimizer='adam')\n",
    "\n",
    "plot_model(model, show_shapes = True);"
   ]
  },
  {
   "cell_type": "code",
   "execution_count": 23,
   "id": "890e1d47",
   "metadata": {
    "execution": {
     "iopub.execute_input": "2022-07-17T12:51:26.669624Z",
     "iopub.status.busy": "2022-07-17T12:51:26.668760Z",
     "iopub.status.idle": "2022-07-17T13:08:06.157138Z",
     "shell.execute_reply": "2022-07-17T13:08:06.156212Z"
    },
    "papermill": {
     "duration": 999.501445,
     "end_time": "2022-07-17T13:08:06.159030",
     "exception": false,
     "start_time": "2022-07-17T12:51:26.657585",
     "status": "completed"
    },
    "tags": []
   },
   "outputs": [
    {
     "name": "stdout",
     "output_type": "stream",
     "text": [
      "113/113 [==============================] - 55s 459ms/step - loss: 5.5940\n",
      "113/113 [==============================] - 51s 448ms/step - loss: 4.4587\n",
      "113/113 [==============================] - 52s 459ms/step - loss: 3.8210\n",
      "113/113 [==============================] - 52s 464ms/step - loss: 3.5127\n",
      "113/113 [==============================] - 52s 460ms/step - loss: 3.2999\n",
      "113/113 [==============================] - 52s 456ms/step - loss: 3.1344\n",
      "113/113 [==============================] - 50s 444ms/step - loss: 3.0112\n",
      "113/113 [==============================] - 53s 466ms/step - loss: 2.9079\n",
      "113/113 [==============================] - 52s 456ms/step - loss: 2.8211\n",
      "113/113 [==============================] - 52s 455ms/step - loss: 2.7401\n",
      "113/113 [==============================] - 52s 457ms/step - loss: 2.6782\n",
      "113/113 [==============================] - 52s 454ms/step - loss: 2.6197\n",
      "113/113 [==============================] - 52s 463ms/step - loss: 2.5638\n",
      "113/113 [==============================] - 52s 457ms/step - loss: 2.5160\n",
      "113/113 [==============================] - 52s 462ms/step - loss: 2.4695\n"
     ]
    }
   ],
   "source": [
    "epochs = 15\n",
    "batch_size = 64\n",
    "steps = len(train_data)// batch_size\n",
    "\n",
    "for i in range(epochs):\n",
    "    generator = data_batch(train_data, captions_mapping, features, tokenizer, max_cap_len, vocab_size, batch_size)\n",
    "    model.fit(generator, epochs = 1, steps_per_epoch = steps, verbose = 1)\n",
    "    "
   ]
  },
  {
   "cell_type": "code",
   "execution_count": 24,
   "id": "147d71a3",
   "metadata": {
    "execution": {
     "iopub.execute_input": "2022-07-17T13:08:06.375497Z",
     "iopub.status.busy": "2022-07-17T13:08:06.375197Z",
     "iopub.status.idle": "2022-07-17T13:08:06.520560Z",
     "shell.execute_reply": "2022-07-17T13:08:06.519568Z"
    },
    "papermill": {
     "duration": 0.257134,
     "end_time": "2022-07-17T13:08:06.523885",
     "exception": false,
     "start_time": "2022-07-17T13:08:06.266751",
     "status": "completed"
    },
    "tags": []
   },
   "outputs": [
    {
     "name": "stderr",
     "output_type": "stream",
     "text": [
      "/opt/conda/lib/python3.7/site-packages/keras/utils/generic_utils.py:497: CustomMaskWarning: Custom mask layers require a config and must override get_config. When loading, the custom mask layer must be passed to the custom_objects argument.\n",
      "  category=CustomMaskWarning)\n"
     ]
    }
   ],
   "source": [
    "model.save(WORKING_DIR+'/Model.h5')"
   ]
  },
  {
   "cell_type": "code",
   "execution_count": null,
   "id": "6835735e",
   "metadata": {
    "papermill": {
     "duration": 0.140534,
     "end_time": "2022-07-17T13:08:06.774030",
     "exception": false,
     "start_time": "2022-07-17T13:08:06.633496",
     "status": "completed"
    },
    "tags": []
   },
   "outputs": [],
   "source": []
  }
 ],
 "metadata": {
  "kernelspec": {
   "display_name": "Python 3",
   "language": "python",
   "name": "python3"
  },
  "language_info": {
   "codemirror_mode": {
    "name": "ipython",
    "version": 3
   },
   "file_extension": ".py",
   "mimetype": "text/x-python",
   "name": "python",
   "nbconvert_exporter": "python",
   "pygments_lexer": "ipython3",
   "version": "3.7.12"
  },
  "papermill": {
   "default_parameters": {},
   "duration": 1501.101158,
   "end_time": "2022-07-17T13:08:10.444500",
   "environment_variables": {},
   "exception": null,
   "input_path": "__notebook__.ipynb",
   "output_path": "__notebook__.ipynb",
   "parameters": {},
   "start_time": "2022-07-17T12:43:09.343342",
   "version": "2.3.4"
  },
  "widgets": {
   "application/vnd.jupyter.widget-state+json": {
    "state": {
     "035fe4b54a224f048e2e5b17df834fa2": {
      "model_module": "@jupyter-widgets/base",
      "model_module_version": "1.2.0",
      "model_name": "LayoutModel",
      "state": {
       "_model_module": "@jupyter-widgets/base",
       "_model_module_version": "1.2.0",
       "_model_name": "LayoutModel",
       "_view_count": null,
       "_view_module": "@jupyter-widgets/base",
       "_view_module_version": "1.2.0",
       "_view_name": "LayoutView",
       "align_content": null,
       "align_items": null,
       "align_self": null,
       "border": null,
       "bottom": null,
       "display": null,
       "flex": null,
       "flex_flow": null,
       "grid_area": null,
       "grid_auto_columns": null,
       "grid_auto_flow": null,
       "grid_auto_rows": null,
       "grid_column": null,
       "grid_gap": null,
       "grid_row": null,
       "grid_template_areas": null,
       "grid_template_columns": null,
       "grid_template_rows": null,
       "height": null,
       "justify_content": null,
       "justify_items": null,
       "left": null,
       "margin": null,
       "max_height": null,
       "max_width": null,
       "min_height": null,
       "min_width": null,
       "object_fit": null,
       "object_position": null,
       "order": null,
       "overflow": null,
       "overflow_x": null,
       "overflow_y": null,
       "padding": null,
       "right": null,
       "top": null,
       "visibility": null,
       "width": null
      }
     },
     "04dca55d489743e2a721d5a8cf3a5a4b": {
      "model_module": "@jupyter-widgets/controls",
      "model_module_version": "1.5.0",
      "model_name": "DescriptionStyleModel",
      "state": {
       "_model_module": "@jupyter-widgets/controls",
       "_model_module_version": "1.5.0",
       "_model_name": "DescriptionStyleModel",
       "_view_count": null,
       "_view_module": "@jupyter-widgets/base",
       "_view_module_version": "1.2.0",
       "_view_name": "StyleView",
       "description_width": ""
      }
     },
     "23c8c16292c04bbf82d9ea63f48e7e2a": {
      "model_module": "@jupyter-widgets/controls",
      "model_module_version": "1.5.0",
      "model_name": "ProgressStyleModel",
      "state": {
       "_model_module": "@jupyter-widgets/controls",
       "_model_module_version": "1.5.0",
       "_model_name": "ProgressStyleModel",
       "_view_count": null,
       "_view_module": "@jupyter-widgets/base",
       "_view_module_version": "1.2.0",
       "_view_name": "StyleView",
       "bar_color": null,
       "description_width": ""
      }
     },
     "3f58993ef2304186b1eae234356f78a7": {
      "model_module": "@jupyter-widgets/controls",
      "model_module_version": "1.5.0",
      "model_name": "FloatProgressModel",
      "state": {
       "_dom_classes": [],
       "_model_module": "@jupyter-widgets/controls",
       "_model_module_version": "1.5.0",
       "_model_name": "FloatProgressModel",
       "_view_count": null,
       "_view_module": "@jupyter-widgets/controls",
       "_view_module_version": "1.5.0",
       "_view_name": "ProgressView",
       "bar_style": "success",
       "description": "",
       "description_tooltip": null,
       "layout": "IPY_MODEL_6b5a1457133b49a4b8c07cc41fd1b160",
       "max": 40456.0,
       "min": 0.0,
       "orientation": "horizontal",
       "style": "IPY_MODEL_75da2bccf69f4aca9e3effad2825a4ca",
       "value": 40456.0
      }
     },
     "3fec1d2dd5da4f7285c5661c4115e04b": {
      "model_module": "@jupyter-widgets/controls",
      "model_module_version": "1.5.0",
      "model_name": "DescriptionStyleModel",
      "state": {
       "_model_module": "@jupyter-widgets/controls",
       "_model_module_version": "1.5.0",
       "_model_name": "DescriptionStyleModel",
       "_view_count": null,
       "_view_module": "@jupyter-widgets/base",
       "_view_module_version": "1.2.0",
       "_view_name": "StyleView",
       "description_width": ""
      }
     },
     "46b97d35dadb436a8fb3ba9cfac41274": {
      "model_module": "@jupyter-widgets/controls",
      "model_module_version": "1.5.0",
      "model_name": "FloatProgressModel",
      "state": {
       "_dom_classes": [],
       "_model_module": "@jupyter-widgets/controls",
       "_model_module_version": "1.5.0",
       "_model_name": "FloatProgressModel",
       "_view_count": null,
       "_view_module": "@jupyter-widgets/controls",
       "_view_module_version": "1.5.0",
       "_view_name": "ProgressView",
       "bar_style": "success",
       "description": "",
       "description_tooltip": null,
       "layout": "IPY_MODEL_cb801eabc2aa4b0a82ab93615b968fb9",
       "max": 8091.0,
       "min": 0.0,
       "orientation": "horizontal",
       "style": "IPY_MODEL_23c8c16292c04bbf82d9ea63f48e7e2a",
       "value": 8091.0
      }
     },
     "4e0fe9bb092d4ccaa1fbfcc65b326d79": {
      "model_module": "@jupyter-widgets/controls",
      "model_module_version": "1.5.0",
      "model_name": "HTMLModel",
      "state": {
       "_dom_classes": [],
       "_model_module": "@jupyter-widgets/controls",
       "_model_module_version": "1.5.0",
       "_model_name": "HTMLModel",
       "_view_count": null,
       "_view_module": "@jupyter-widgets/controls",
       "_view_module_version": "1.5.0",
       "_view_name": "HTMLView",
       "description": "",
       "description_tooltip": null,
       "layout": "IPY_MODEL_566267535bcf4ecfafc046fb36311e41",
       "placeholder": "​",
       "style": "IPY_MODEL_d49d4012a2f447cab452e2634a9363ca",
       "value": " 40456/40456 [00:00&lt;00:00, 188249.88it/s]"
      }
     },
     "51d59de983da47a9bc4cc31317bc061d": {
      "model_module": "@jupyter-widgets/base",
      "model_module_version": "1.2.0",
      "model_name": "LayoutModel",
      "state": {
       "_model_module": "@jupyter-widgets/base",
       "_model_module_version": "1.2.0",
       "_model_name": "LayoutModel",
       "_view_count": null,
       "_view_module": "@jupyter-widgets/base",
       "_view_module_version": "1.2.0",
       "_view_name": "LayoutView",
       "align_content": null,
       "align_items": null,
       "align_self": null,
       "border": null,
       "bottom": null,
       "display": null,
       "flex": null,
       "flex_flow": null,
       "grid_area": null,
       "grid_auto_columns": null,
       "grid_auto_flow": null,
       "grid_auto_rows": null,
       "grid_column": null,
       "grid_gap": null,
       "grid_row": null,
       "grid_template_areas": null,
       "grid_template_columns": null,
       "grid_template_rows": null,
       "height": null,
       "justify_content": null,
       "justify_items": null,
       "left": null,
       "margin": null,
       "max_height": null,
       "max_width": null,
       "min_height": null,
       "min_width": null,
       "object_fit": null,
       "object_position": null,
       "order": null,
       "overflow": null,
       "overflow_x": null,
       "overflow_y": null,
       "padding": null,
       "right": null,
       "top": null,
       "visibility": null,
       "width": null
      }
     },
     "566267535bcf4ecfafc046fb36311e41": {
      "model_module": "@jupyter-widgets/base",
      "model_module_version": "1.2.0",
      "model_name": "LayoutModel",
      "state": {
       "_model_module": "@jupyter-widgets/base",
       "_model_module_version": "1.2.0",
       "_model_name": "LayoutModel",
       "_view_count": null,
       "_view_module": "@jupyter-widgets/base",
       "_view_module_version": "1.2.0",
       "_view_name": "LayoutView",
       "align_content": null,
       "align_items": null,
       "align_self": null,
       "border": null,
       "bottom": null,
       "display": null,
       "flex": null,
       "flex_flow": null,
       "grid_area": null,
       "grid_auto_columns": null,
       "grid_auto_flow": null,
       "grid_auto_rows": null,
       "grid_column": null,
       "grid_gap": null,
       "grid_row": null,
       "grid_template_areas": null,
       "grid_template_columns": null,
       "grid_template_rows": null,
       "height": null,
       "justify_content": null,
       "justify_items": null,
       "left": null,
       "margin": null,
       "max_height": null,
       "max_width": null,
       "min_height": null,
       "min_width": null,
       "object_fit": null,
       "object_position": null,
       "order": null,
       "overflow": null,
       "overflow_x": null,
       "overflow_y": null,
       "padding": null,
       "right": null,
       "top": null,
       "visibility": null,
       "width": null
      }
     },
     "662851647abe458cb7d01d8d1e8e6870": {
      "model_module": "@jupyter-widgets/base",
      "model_module_version": "1.2.0",
      "model_name": "LayoutModel",
      "state": {
       "_model_module": "@jupyter-widgets/base",
       "_model_module_version": "1.2.0",
       "_model_name": "LayoutModel",
       "_view_count": null,
       "_view_module": "@jupyter-widgets/base",
       "_view_module_version": "1.2.0",
       "_view_name": "LayoutView",
       "align_content": null,
       "align_items": null,
       "align_self": null,
       "border": null,
       "bottom": null,
       "display": null,
       "flex": null,
       "flex_flow": null,
       "grid_area": null,
       "grid_auto_columns": null,
       "grid_auto_flow": null,
       "grid_auto_rows": null,
       "grid_column": null,
       "grid_gap": null,
       "grid_row": null,
       "grid_template_areas": null,
       "grid_template_columns": null,
       "grid_template_rows": null,
       "height": null,
       "justify_content": null,
       "justify_items": null,
       "left": null,
       "margin": null,
       "max_height": null,
       "max_width": null,
       "min_height": null,
       "min_width": null,
       "object_fit": null,
       "object_position": null,
       "order": null,
       "overflow": null,
       "overflow_x": null,
       "overflow_y": null,
       "padding": null,
       "right": null,
       "top": null,
       "visibility": null,
       "width": null
      }
     },
     "6b5a1457133b49a4b8c07cc41fd1b160": {
      "model_module": "@jupyter-widgets/base",
      "model_module_version": "1.2.0",
      "model_name": "LayoutModel",
      "state": {
       "_model_module": "@jupyter-widgets/base",
       "_model_module_version": "1.2.0",
       "_model_name": "LayoutModel",
       "_view_count": null,
       "_view_module": "@jupyter-widgets/base",
       "_view_module_version": "1.2.0",
       "_view_name": "LayoutView",
       "align_content": null,
       "align_items": null,
       "align_self": null,
       "border": null,
       "bottom": null,
       "display": null,
       "flex": null,
       "flex_flow": null,
       "grid_area": null,
       "grid_auto_columns": null,
       "grid_auto_flow": null,
       "grid_auto_rows": null,
       "grid_column": null,
       "grid_gap": null,
       "grid_row": null,
       "grid_template_areas": null,
       "grid_template_columns": null,
       "grid_template_rows": null,
       "height": null,
       "justify_content": null,
       "justify_items": null,
       "left": null,
       "margin": null,
       "max_height": null,
       "max_width": null,
       "min_height": null,
       "min_width": null,
       "object_fit": null,
       "object_position": null,
       "order": null,
       "overflow": null,
       "overflow_x": null,
       "overflow_y": null,
       "padding": null,
       "right": null,
       "top": null,
       "visibility": null,
       "width": null
      }
     },
     "75da2bccf69f4aca9e3effad2825a4ca": {
      "model_module": "@jupyter-widgets/controls",
      "model_module_version": "1.5.0",
      "model_name": "ProgressStyleModel",
      "state": {
       "_model_module": "@jupyter-widgets/controls",
       "_model_module_version": "1.5.0",
       "_model_name": "ProgressStyleModel",
       "_view_count": null,
       "_view_module": "@jupyter-widgets/base",
       "_view_module_version": "1.2.0",
       "_view_name": "StyleView",
       "bar_color": null,
       "description_width": ""
      }
     },
     "803e9d883a86424a89171f05ac0d79fb": {
      "model_module": "@jupyter-widgets/controls",
      "model_module_version": "1.5.0",
      "model_name": "HBoxModel",
      "state": {
       "_dom_classes": [],
       "_model_module": "@jupyter-widgets/controls",
       "_model_module_version": "1.5.0",
       "_model_name": "HBoxModel",
       "_view_count": null,
       "_view_module": "@jupyter-widgets/controls",
       "_view_module_version": "1.5.0",
       "_view_name": "HBoxView",
       "box_style": "",
       "children": [
        "IPY_MODEL_820aec91c7b04a4cae98483bd75d6a3d",
        "IPY_MODEL_3f58993ef2304186b1eae234356f78a7",
        "IPY_MODEL_4e0fe9bb092d4ccaa1fbfcc65b326d79"
       ],
       "layout": "IPY_MODEL_035fe4b54a224f048e2e5b17df834fa2"
      }
     },
     "820aec91c7b04a4cae98483bd75d6a3d": {
      "model_module": "@jupyter-widgets/controls",
      "model_module_version": "1.5.0",
      "model_name": "HTMLModel",
      "state": {
       "_dom_classes": [],
       "_model_module": "@jupyter-widgets/controls",
       "_model_module_version": "1.5.0",
       "_model_name": "HTMLModel",
       "_view_count": null,
       "_view_module": "@jupyter-widgets/controls",
       "_view_module_version": "1.5.0",
       "_view_name": "HTMLView",
       "description": "",
       "description_tooltip": null,
       "layout": "IPY_MODEL_b6785ece8936446fbb3435daa0010726",
       "placeholder": "​",
       "style": "IPY_MODEL_04dca55d489743e2a721d5a8cf3a5a4b",
       "value": "100%"
      }
     },
     "86cad542a72e429d8e1ba371477e2661": {
      "model_module": "@jupyter-widgets/controls",
      "model_module_version": "1.5.0",
      "model_name": "HTMLModel",
      "state": {
       "_dom_classes": [],
       "_model_module": "@jupyter-widgets/controls",
       "_model_module_version": "1.5.0",
       "_model_name": "HTMLModel",
       "_view_count": null,
       "_view_module": "@jupyter-widgets/controls",
       "_view_module_version": "1.5.0",
       "_view_name": "HTMLView",
       "description": "",
       "description_tooltip": null,
       "layout": "IPY_MODEL_ce2321f2bce8450ca486602a61c326df",
       "placeholder": "​",
       "style": "IPY_MODEL_3fec1d2dd5da4f7285c5661c4115e04b",
       "value": " 8091/8091 [07:51&lt;00:00, 18.10it/s]"
      }
     },
     "8bac94fe66994da48c4a7892a848ea03": {
      "model_module": "@jupyter-widgets/controls",
      "model_module_version": "1.5.0",
      "model_name": "HBoxModel",
      "state": {
       "_dom_classes": [],
       "_model_module": "@jupyter-widgets/controls",
       "_model_module_version": "1.5.0",
       "_model_name": "HBoxModel",
       "_view_count": null,
       "_view_module": "@jupyter-widgets/controls",
       "_view_module_version": "1.5.0",
       "_view_name": "HBoxView",
       "box_style": "",
       "children": [
        "IPY_MODEL_c5389d10945146d5b38e4c53880937b6",
        "IPY_MODEL_46b97d35dadb436a8fb3ba9cfac41274",
        "IPY_MODEL_86cad542a72e429d8e1ba371477e2661"
       ],
       "layout": "IPY_MODEL_51d59de983da47a9bc4cc31317bc061d"
      }
     },
     "acac661b28d843469477b7dd4b557c55": {
      "model_module": "@jupyter-widgets/controls",
      "model_module_version": "1.5.0",
      "model_name": "DescriptionStyleModel",
      "state": {
       "_model_module": "@jupyter-widgets/controls",
       "_model_module_version": "1.5.0",
       "_model_name": "DescriptionStyleModel",
       "_view_count": null,
       "_view_module": "@jupyter-widgets/base",
       "_view_module_version": "1.2.0",
       "_view_name": "StyleView",
       "description_width": ""
      }
     },
     "b6785ece8936446fbb3435daa0010726": {
      "model_module": "@jupyter-widgets/base",
      "model_module_version": "1.2.0",
      "model_name": "LayoutModel",
      "state": {
       "_model_module": "@jupyter-widgets/base",
       "_model_module_version": "1.2.0",
       "_model_name": "LayoutModel",
       "_view_count": null,
       "_view_module": "@jupyter-widgets/base",
       "_view_module_version": "1.2.0",
       "_view_name": "LayoutView",
       "align_content": null,
       "align_items": null,
       "align_self": null,
       "border": null,
       "bottom": null,
       "display": null,
       "flex": null,
       "flex_flow": null,
       "grid_area": null,
       "grid_auto_columns": null,
       "grid_auto_flow": null,
       "grid_auto_rows": null,
       "grid_column": null,
       "grid_gap": null,
       "grid_row": null,
       "grid_template_areas": null,
       "grid_template_columns": null,
       "grid_template_rows": null,
       "height": null,
       "justify_content": null,
       "justify_items": null,
       "left": null,
       "margin": null,
       "max_height": null,
       "max_width": null,
       "min_height": null,
       "min_width": null,
       "object_fit": null,
       "object_position": null,
       "order": null,
       "overflow": null,
       "overflow_x": null,
       "overflow_y": null,
       "padding": null,
       "right": null,
       "top": null,
       "visibility": null,
       "width": null
      }
     },
     "c5389d10945146d5b38e4c53880937b6": {
      "model_module": "@jupyter-widgets/controls",
      "model_module_version": "1.5.0",
      "model_name": "HTMLModel",
      "state": {
       "_dom_classes": [],
       "_model_module": "@jupyter-widgets/controls",
       "_model_module_version": "1.5.0",
       "_model_name": "HTMLModel",
       "_view_count": null,
       "_view_module": "@jupyter-widgets/controls",
       "_view_module_version": "1.5.0",
       "_view_name": "HTMLView",
       "description": "",
       "description_tooltip": null,
       "layout": "IPY_MODEL_662851647abe458cb7d01d8d1e8e6870",
       "placeholder": "​",
       "style": "IPY_MODEL_acac661b28d843469477b7dd4b557c55",
       "value": "100%"
      }
     },
     "cb801eabc2aa4b0a82ab93615b968fb9": {
      "model_module": "@jupyter-widgets/base",
      "model_module_version": "1.2.0",
      "model_name": "LayoutModel",
      "state": {
       "_model_module": "@jupyter-widgets/base",
       "_model_module_version": "1.2.0",
       "_model_name": "LayoutModel",
       "_view_count": null,
       "_view_module": "@jupyter-widgets/base",
       "_view_module_version": "1.2.0",
       "_view_name": "LayoutView",
       "align_content": null,
       "align_items": null,
       "align_self": null,
       "border": null,
       "bottom": null,
       "display": null,
       "flex": null,
       "flex_flow": null,
       "grid_area": null,
       "grid_auto_columns": null,
       "grid_auto_flow": null,
       "grid_auto_rows": null,
       "grid_column": null,
       "grid_gap": null,
       "grid_row": null,
       "grid_template_areas": null,
       "grid_template_columns": null,
       "grid_template_rows": null,
       "height": null,
       "justify_content": null,
       "justify_items": null,
       "left": null,
       "margin": null,
       "max_height": null,
       "max_width": null,
       "min_height": null,
       "min_width": null,
       "object_fit": null,
       "object_position": null,
       "order": null,
       "overflow": null,
       "overflow_x": null,
       "overflow_y": null,
       "padding": null,
       "right": null,
       "top": null,
       "visibility": null,
       "width": null
      }
     },
     "ce2321f2bce8450ca486602a61c326df": {
      "model_module": "@jupyter-widgets/base",
      "model_module_version": "1.2.0",
      "model_name": "LayoutModel",
      "state": {
       "_model_module": "@jupyter-widgets/base",
       "_model_module_version": "1.2.0",
       "_model_name": "LayoutModel",
       "_view_count": null,
       "_view_module": "@jupyter-widgets/base",
       "_view_module_version": "1.2.0",
       "_view_name": "LayoutView",
       "align_content": null,
       "align_items": null,
       "align_self": null,
       "border": null,
       "bottom": null,
       "display": null,
       "flex": null,
       "flex_flow": null,
       "grid_area": null,
       "grid_auto_columns": null,
       "grid_auto_flow": null,
       "grid_auto_rows": null,
       "grid_column": null,
       "grid_gap": null,
       "grid_row": null,
       "grid_template_areas": null,
       "grid_template_columns": null,
       "grid_template_rows": null,
       "height": null,
       "justify_content": null,
       "justify_items": null,
       "left": null,
       "margin": null,
       "max_height": null,
       "max_width": null,
       "min_height": null,
       "min_width": null,
       "object_fit": null,
       "object_position": null,
       "order": null,
       "overflow": null,
       "overflow_x": null,
       "overflow_y": null,
       "padding": null,
       "right": null,
       "top": null,
       "visibility": null,
       "width": null
      }
     },
     "d49d4012a2f447cab452e2634a9363ca": {
      "model_module": "@jupyter-widgets/controls",
      "model_module_version": "1.5.0",
      "model_name": "DescriptionStyleModel",
      "state": {
       "_model_module": "@jupyter-widgets/controls",
       "_model_module_version": "1.5.0",
       "_model_name": "DescriptionStyleModel",
       "_view_count": null,
       "_view_module": "@jupyter-widgets/base",
       "_view_module_version": "1.2.0",
       "_view_name": "StyleView",
       "description_width": ""
      }
     }
    },
    "version_major": 2,
    "version_minor": 0
   }
  }
 },
 "nbformat": 4,
 "nbformat_minor": 5
}
